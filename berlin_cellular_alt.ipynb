{
 "cells": [
  {
   "cell_type": "code",
   "execution_count": 1,
   "metadata": {
    "collapsed": true,
    "ExecuteTime": {
     "end_time": "2023-07-23T06:06:29.679121900Z",
     "start_time": "2023-07-23T06:06:26.899395Z"
    }
   },
   "outputs": [
    {
     "name": "stderr",
     "output_type": "stream",
     "text": [
      "2023-07-23 11:36:27.890222: I tensorflow/core/platform/cpu_feature_guard.cc:193] This TensorFlow binary is optimized with oneAPI Deep Neural Network Library (oneDNN) to use the following CPU instructions in performance-critical operations:  AVX2 FMA\n",
      "To enable them in other operations, rebuild TensorFlow with the appropriate compiler flags.\n",
      "2023-07-23 11:36:28.816320: W tensorflow/compiler/xla/stream_executor/platform/default/dso_loader.cc:64] Could not load dynamic library 'libnvinfer.so.7'; dlerror: libnvinfer.so.7: cannot open shared object file: No such file or directory; LD_LIBRARY_PATH: /home/student1/openssl/lib:\n",
      "2023-07-23 11:36:28.816418: W tensorflow/compiler/xla/stream_executor/platform/default/dso_loader.cc:64] Could not load dynamic library 'libnvinfer_plugin.so.7'; dlerror: libnvinfer_plugin.so.7: cannot open shared object file: No such file or directory; LD_LIBRARY_PATH: /home/student1/openssl/lib:\n",
      "2023-07-23 11:36:28.816431: W tensorflow/compiler/tf2tensorrt/utils/py_utils.cc:38] TF-TRT Warning: Cannot dlopen some TensorRT libraries. If you would like to use Nvidia GPU with TensorRT, please make sure the missing libraries mentioned above are installed properly.\n"
     ]
    }
   ],
   "source": [
    "import pandas as pd\n",
    "import numpy as np\n",
    "import tensorflow.keras as keras\n",
    "import matplotlib.pyplot as plt\n",
    "import tensorflow as tf"
   ]
  },
  {
   "cell_type": "code",
   "execution_count": 2,
   "outputs": [],
   "source": [
    "from sklearn.metrics import mean_squared_error as MSE\n",
    "from sklearn.metrics import mean_absolute_error as MAE\n",
    "from sklearn.model_selection import train_test_split\n",
    "import xgboost as xg"
   ],
   "metadata": {
    "collapsed": false,
    "ExecuteTime": {
     "end_time": "2023-07-23T06:06:32.702186700Z",
     "start_time": "2023-07-23T06:06:32.169270600Z"
    }
   }
  },
  {
   "cell_type": "code",
   "execution_count": 3,
   "outputs": [],
   "source": [
    "import t3f"
   ],
   "metadata": {
    "collapsed": false,
    "ExecuteTime": {
     "end_time": "2023-07-23T06:06:33.408983300Z",
     "start_time": "2023-07-23T06:06:33.288117800Z"
    }
   }
  },
  {
   "cell_type": "code",
   "execution_count": 4,
   "outputs": [
    {
     "name": "stderr",
     "output_type": "stream",
     "text": [
      "2023-07-23 11:36:38.401111: I tensorflow/core/platform/cpu_feature_guard.cc:193] This TensorFlow binary is optimized with oneAPI Deep Neural Network Library (oneDNN) to use the following CPU instructions in performance-critical operations:  AVX2 FMA\n",
      "To enable them in other operations, rebuild TensorFlow with the appropriate compiler flags.\n",
      "2023-07-23 11:36:39.133791: I tensorflow/core/common_runtime/gpu/gpu_device.cc:1613] Created device /job:localhost/replica:0/task:0/device:GPU:0 with 10405 MB memory:  -> device: 0, name: NVIDIA GeForce GTX 1080 Ti, pci bus id: 0000:89:00.0, compute capability: 6.1\n"
     ]
    }
   ],
   "source": [
    "root_mean_squared_error = tf.keras.metrics.RootMeanSquaredError(\n",
    "    name='root_mean_squared_error')"
   ],
   "metadata": {
    "collapsed": false,
    "ExecuteTime": {
     "end_time": "2023-07-23T06:06:38.792209100Z",
     "start_time": "2023-07-23T06:06:33.974194400Z"
    }
   }
  },
  {
   "cell_type": "code",
   "execution_count": 5,
   "outputs": [],
   "source": [
    "def calculate_mae(model,test_X,test_Y,name):\n",
    "    model_pred = model.predict(test_X)\n",
    "\n",
    "    root_error = np.sqrt(MSE(test_Y, model_pred))\n",
    "    print(\"RMSE : % f\" %(root_error))\n",
    "\n",
    "    absolute_error = MAE(test_Y,model_pred)\n",
    "    print(\"MAE : \", absolute_error)\n",
    "    ma_error[name] = absolute_error\n",
    "    rms_error[name] = root_error"
   ],
   "metadata": {
    "collapsed": false,
    "ExecuteTime": {
     "end_time": "2023-07-23T06:06:42.038536900Z",
     "start_time": "2023-07-23T06:06:42.022683900Z"
    }
   }
  },
  {
   "cell_type": "code",
   "execution_count": 6,
   "outputs": [],
   "source": [
    "def xgboost_model(name,input_parameters,output_parameters):\n",
    "    x = pd.DataFrame(df.loc[:,input_parameters])\n",
    "    y = pd.DataFrame(df.loc[:,output_parameters])\n",
    "    #y = normalize_y(y)\n",
    "    for each in x.columns:\n",
    "        Nan_count = count_Nan(x,each)\n",
    "        #print()\n",
    "        if(Nan_count == 0):\n",
    "            replace_Nan(x,each)\n",
    "\n",
    "    train_X,test_X,train_Y,test_Y = train_test_split(x,y,test_size=0.1,random_state=123)\n",
    "    xg_reg2 = xg.XGBRegressor(objective ='reg:squarederror',\n",
    "                  n_estimators = 10, seed = 123)\n",
    "\n",
    "    xr_res = xg_reg2.fit(train_X,train_Y)\n",
    "    pred = xg_reg2.predict(test_X)\n",
    "    calculate_mae(xg_reg2,test_X,test_Y,name)\n",
    "    pred = pd.DataFrame(pred)\n",
    "#     print(pred.value_counts())\n",
    "    return xg_reg2"
   ],
   "metadata": {
    "collapsed": false,
    "ExecuteTime": {
     "end_time": "2023-07-23T06:06:43.147652300Z",
     "start_time": "2023-07-23T06:06:43.125106700Z"
    }
   }
  },
  {
   "cell_type": "code",
   "execution_count": 7,
   "outputs": [],
   "source": [
    "ma_error = {}\n",
    "rms_error = {}"
   ],
   "metadata": {
    "collapsed": false,
    "ExecuteTime": {
     "end_time": "2023-07-23T06:06:43.827272300Z",
     "start_time": "2023-07-23T06:06:43.794022100Z"
    }
   }
  },
  {
   "cell_type": "code",
   "execution_count": 8,
   "outputs": [],
   "source": [
    "df = pd.read_csv('cellular_dataframe.csv')"
   ],
   "metadata": {
    "collapsed": false,
    "ExecuteTime": {
     "end_time": "2023-07-23T06:06:47.518288700Z",
     "start_time": "2023-07-23T06:06:44.475436900Z"
    }
   }
  },
  {
   "cell_type": "code",
   "execution_count": 9,
   "outputs": [],
   "source": [
    "df = df.loc[df['area'] == 'Avenue']"
   ],
   "metadata": {
    "collapsed": false,
    "ExecuteTime": {
     "end_time": "2023-07-23T06:06:49.877679Z",
     "start_time": "2023-07-23T06:06:49.809480300Z"
    }
   }
  },
  {
   "cell_type": "code",
   "execution_count": 10,
   "outputs": [],
   "source": [
    "df = df.select_dtypes(exclude=['object'])"
   ],
   "metadata": {
    "collapsed": false,
    "ExecuteTime": {
     "end_time": "2023-07-23T06:06:50.379060200Z",
     "start_time": "2023-07-23T06:06:50.312523200Z"
    }
   }
  },
  {
   "cell_type": "code",
   "execution_count": 11,
   "outputs": [],
   "source": [
    "def count_Nan(df,column):\n",
    "  return df[column].isna().sum()\n",
    "\n",
    "def replace_Nan(df,column):\n",
    "  df.fillna(value=df[column].mean() , inplace=True)\n",
    "\n",
    "for each in df.columns:\n",
    "  replace_Nan(df, each)"
   ],
   "metadata": {
    "collapsed": false,
    "ExecuteTime": {
     "end_time": "2023-07-23T06:06:51.917676500Z",
     "start_time": "2023-07-23T06:06:50.867620700Z"
    }
   }
  },
  {
   "cell_type": "code",
   "execution_count": 12,
   "outputs": [],
   "source": [
    "def normalize_datarate(df):\n",
    "    result = df.copy()\n",
    "    max_value = df['datarate'].max()\n",
    "    min_value = df['datarate'].min()\n",
    "    #result['datarate'] = (df['datarate'] - min_value) / (max_value - min_value)\n",
    "    result['datarate'] = 0 + ( ((df['datarate'] - min_value)*100) / (max_value - min_value))\n",
    "    return result"
   ],
   "metadata": {
    "collapsed": false,
    "ExecuteTime": {
     "end_time": "2023-07-23T06:06:52.547981100Z",
     "start_time": "2023-07-23T06:06:52.516637Z"
    }
   }
  },
  {
   "cell_type": "code",
   "execution_count": 13,
   "outputs": [],
   "source": [
    "df = normalize_datarate(df)"
   ],
   "metadata": {
    "collapsed": false,
    "ExecuteTime": {
     "end_time": "2023-07-23T06:06:53.219337Z",
     "start_time": "2023-07-23T06:06:53.172437300Z"
    }
   }
  },
  {
   "cell_type": "code",
   "execution_count": 14,
   "outputs": [
    {
     "data": {
      "text/plain": "['PCell_Downlink_Num_RBs',\n 'PCell_Downlink_TB_Size',\n 'SCell_Downlink_Num_RBs',\n 'SCell_Downlink_TB_Size',\n 'SCell_Downlink_RBs_MCS_28',\n 'SCell_Downlink_RBs_MCS_31',\n 'target_datarate']"
     },
     "execution_count": 14,
     "metadata": {},
     "output_type": "execute_result"
    }
   ],
   "source": [
    "from sklearn.feature_selection import SelectKBest\n",
    "from sklearn.feature_selection import f_classif\n",
    "X= df.drop(columns=[\"datarate\"])\n",
    "y= df['datarate']\n",
    "uni = SelectKBest(score_func = f_classif, k = 7\n",
    "                  )\n",
    "fit = uni.fit(X, y)\n",
    "X.columns[fit.get_support(indices=True)].tolist()"
   ],
   "metadata": {
    "collapsed": false,
    "ExecuteTime": {
     "end_time": "2023-07-23T06:06:54.476189700Z",
     "start_time": "2023-07-23T06:06:53.791115300Z"
    }
   }
  },
  {
   "cell_type": "code",
   "execution_count": 15,
   "outputs": [
    {
     "data": {
      "text/plain": "         ping_ms   datarate    jitter   Latitude  Longitude  Altitude  \\\n216   443.361834  25.350431  0.000848  52.514013  13.335172      41.9   \n217   443.361834   9.040442  0.000512  52.514008  13.335195      35.3   \n218   443.361834  18.376250  0.000090  52.513830  13.334935      30.7   \n219  1396.000000  26.014639  0.000207  52.513848  13.334832      32.3   \n220   443.361834   7.675126  0.002268  52.514005  13.335195      35.4   \n\n     speed_kmh    COG  precipIntensity  precipProbability  ...  \\\n216        0.0    0.0           0.0652               0.04  ...   \n217        0.0  259.0           0.0652               0.04  ...   \n218        0.0    0.0           0.0653               0.04  ...   \n219        0.0  265.9           0.0653               0.04  ...   \n220        0.0  259.0           0.0652               0.04  ...   \n\n     SCell_Cell_Identity  SCell_TAC  SCell_Band_Indicator  SCell_MCC  \\\n216           33802248.0     1494.0                   7.0      262.0   \n217           51842565.0    49101.0                   7.0      262.0   \n218           51842568.0    49101.0                   3.0      262.0   \n219           33802248.0     1494.0                   7.0      262.0   \n220           51842565.0    49101.0                   7.0      262.0   \n\n     SCell_MNC_Digit  SCell_MNC  SCell_Allowed_Access  SCell_freq_MHz  \\\n216              2.0        1.0                   0.0          2600.0   \n217              2.0        2.0                   0.0          2600.0   \n218              2.0        2.0                   0.0          1800.0   \n219              2.0        1.0                   0.0          2600.0   \n220              2.0        2.0                   0.0          2600.0   \n\n     target_datarate  operator  \n216        350000000         1  \n217        350000000         2  \n218        350000000         2  \n219        350000000         1  \n220        350000000         2  \n\n[5 rows x 151 columns]",
      "text/html": "<div>\n<style scoped>\n    .dataframe tbody tr th:only-of-type {\n        vertical-align: middle;\n    }\n\n    .dataframe tbody tr th {\n        vertical-align: top;\n    }\n\n    .dataframe thead th {\n        text-align: right;\n    }\n</style>\n<table border=\"1\" class=\"dataframe\">\n  <thead>\n    <tr style=\"text-align: right;\">\n      <th></th>\n      <th>ping_ms</th>\n      <th>datarate</th>\n      <th>jitter</th>\n      <th>Latitude</th>\n      <th>Longitude</th>\n      <th>Altitude</th>\n      <th>speed_kmh</th>\n      <th>COG</th>\n      <th>precipIntensity</th>\n      <th>precipProbability</th>\n      <th>...</th>\n      <th>SCell_Cell_Identity</th>\n      <th>SCell_TAC</th>\n      <th>SCell_Band_Indicator</th>\n      <th>SCell_MCC</th>\n      <th>SCell_MNC_Digit</th>\n      <th>SCell_MNC</th>\n      <th>SCell_Allowed_Access</th>\n      <th>SCell_freq_MHz</th>\n      <th>target_datarate</th>\n      <th>operator</th>\n    </tr>\n  </thead>\n  <tbody>\n    <tr>\n      <th>216</th>\n      <td>443.361834</td>\n      <td>25.350431</td>\n      <td>0.000848</td>\n      <td>52.514013</td>\n      <td>13.335172</td>\n      <td>41.9</td>\n      <td>0.0</td>\n      <td>0.0</td>\n      <td>0.0652</td>\n      <td>0.04</td>\n      <td>...</td>\n      <td>33802248.0</td>\n      <td>1494.0</td>\n      <td>7.0</td>\n      <td>262.0</td>\n      <td>2.0</td>\n      <td>1.0</td>\n      <td>0.0</td>\n      <td>2600.0</td>\n      <td>350000000</td>\n      <td>1</td>\n    </tr>\n    <tr>\n      <th>217</th>\n      <td>443.361834</td>\n      <td>9.040442</td>\n      <td>0.000512</td>\n      <td>52.514008</td>\n      <td>13.335195</td>\n      <td>35.3</td>\n      <td>0.0</td>\n      <td>259.0</td>\n      <td>0.0652</td>\n      <td>0.04</td>\n      <td>...</td>\n      <td>51842565.0</td>\n      <td>49101.0</td>\n      <td>7.0</td>\n      <td>262.0</td>\n      <td>2.0</td>\n      <td>2.0</td>\n      <td>0.0</td>\n      <td>2600.0</td>\n      <td>350000000</td>\n      <td>2</td>\n    </tr>\n    <tr>\n      <th>218</th>\n      <td>443.361834</td>\n      <td>18.376250</td>\n      <td>0.000090</td>\n      <td>52.513830</td>\n      <td>13.334935</td>\n      <td>30.7</td>\n      <td>0.0</td>\n      <td>0.0</td>\n      <td>0.0653</td>\n      <td>0.04</td>\n      <td>...</td>\n      <td>51842568.0</td>\n      <td>49101.0</td>\n      <td>3.0</td>\n      <td>262.0</td>\n      <td>2.0</td>\n      <td>2.0</td>\n      <td>0.0</td>\n      <td>1800.0</td>\n      <td>350000000</td>\n      <td>2</td>\n    </tr>\n    <tr>\n      <th>219</th>\n      <td>1396.000000</td>\n      <td>26.014639</td>\n      <td>0.000207</td>\n      <td>52.513848</td>\n      <td>13.334832</td>\n      <td>32.3</td>\n      <td>0.0</td>\n      <td>265.9</td>\n      <td>0.0653</td>\n      <td>0.04</td>\n      <td>...</td>\n      <td>33802248.0</td>\n      <td>1494.0</td>\n      <td>7.0</td>\n      <td>262.0</td>\n      <td>2.0</td>\n      <td>1.0</td>\n      <td>0.0</td>\n      <td>2600.0</td>\n      <td>350000000</td>\n      <td>1</td>\n    </tr>\n    <tr>\n      <th>220</th>\n      <td>443.361834</td>\n      <td>7.675126</td>\n      <td>0.002268</td>\n      <td>52.514005</td>\n      <td>13.335195</td>\n      <td>35.4</td>\n      <td>0.0</td>\n      <td>259.0</td>\n      <td>0.0652</td>\n      <td>0.04</td>\n      <td>...</td>\n      <td>51842565.0</td>\n      <td>49101.0</td>\n      <td>7.0</td>\n      <td>262.0</td>\n      <td>2.0</td>\n      <td>2.0</td>\n      <td>0.0</td>\n      <td>2600.0</td>\n      <td>350000000</td>\n      <td>2</td>\n    </tr>\n  </tbody>\n</table>\n<p>5 rows × 151 columns</p>\n</div>"
     },
     "execution_count": 15,
     "metadata": {},
     "output_type": "execute_result"
    }
   ],
   "source": [
    "df.head()"
   ],
   "metadata": {
    "collapsed": false,
    "ExecuteTime": {
     "end_time": "2023-07-23T06:06:55.595457100Z",
     "start_time": "2023-07-23T06:06:55.479201400Z"
    }
   }
  },
  {
   "cell_type": "code",
   "execution_count": 16,
   "outputs": [
    {
     "data": {
      "text/plain": "<Figure size 640x480 with 1 Axes>",
      "image/png": "[encoded data removed]"
     },
     "metadata": {},
     "output_type": "display_data"
    }
   ],
   "source": [
    "df['datarate'].plot()\n",
    "plt.show()"
   ],
   "metadata": {
    "collapsed": false,
    "ExecuteTime": {
     "end_time": "2023-07-23T06:06:56.576218800Z",
     "start_time": "2023-07-23T06:06:56.261818800Z"
    }
   }
  },
  {
   "cell_type": "code",
   "execution_count": 17,
   "outputs": [
    {
     "data": {
      "text/plain": "(43466, 151)"
     },
     "execution_count": 17,
     "metadata": {},
     "output_type": "execute_result"
    }
   ],
   "source": [
    "df.shape"
   ],
   "metadata": {
    "collapsed": false,
    "ExecuteTime": {
     "end_time": "2023-07-23T06:06:57.455336600Z",
     "start_time": "2023-07-23T06:06:57.362606400Z"
    }
   }
  },
  {
   "cell_type": "code",
   "execution_count": 18,
   "outputs": [
    {
     "name": "stdout",
     "output_type": "stream",
     "text": [
      "RMSE :  3.816322\n",
      "MAE :  2.6762704389962226\n"
     ]
    }
   ],
   "source": [
    "input_param = ['Latitude', 'Longitude', 'PCell_Downlink_Num_RBs',\n",
    "               'PCell_Downlink_TB_Size',\n",
    "               'SCell_Downlink_Num_RBs',\n",
    "               'SCell_Downlink_TB_Size',\n",
    "               'SCell_Downlink_RBs_MCS_28',\n",
    "               'SCell_Downlink_RBs_MCS_31']\n",
    "output_param = ['datarate']\n",
    "UL_ALL_XG = xgboost_model('UL_ALL_XG', input_param, output_param)"
   ],
   "metadata": {
    "collapsed": false,
    "ExecuteTime": {
     "end_time": "2023-07-23T06:06:58.668202800Z",
     "start_time": "2023-07-23T06:06:58.204218100Z"
    }
   }
  },
  {
   "cell_type": "code",
   "execution_count": 19,
   "outputs": [],
   "source": [
    "def plot_loss(res,param):\n",
    "    len_epoch = len(res.history[param])\n",
    "    plt.figure(figsize=(5,5))\n",
    "    epoch = np.linspace(1,len_epoch,len_epoch)\n",
    "    plt.plot(epoch,res.history[param])\n",
    "    plt.xlabel('epochs')\n",
    "    plt.ylabel(param)\n",
    "    plt.show()"
   ],
   "metadata": {
    "collapsed": false,
    "ExecuteTime": {
     "end_time": "2023-07-23T06:06:59.508819700Z",
     "start_time": "2023-07-23T06:06:59.232123400Z"
    }
   }
  },
  {
   "cell_type": "code",
   "execution_count": 20,
   "outputs": [],
   "source": [
    "import keras_lmu\n",
    "import tensorflow as tf\n",
    "from tensorflow.keras import Model, Input\n",
    "from sklearn.model_selection import train_test_split\n",
    "# Assuming all required libraries and methods are already imported\n",
    "\n",
    "\n",
    "def create_model(hidden_units, input_shape):\n",
    "    inputs = Input(shape=(None, input_shape))  # None for the time dimension\n",
    "\n",
    "    norm = tf.keras.layers.BatchNormalization(axis=-1, momentum=0.99)\n",
    "    norm_out = norm(inputs)\n",
    "\n",
    "    hidden_outputs = []\n",
    "    for i in range(len(hidden_units)):\n",
    "        lmu_layer = keras_lmu.LMU(\n",
    "            memory_d=1,\n",
    "            order=hidden_units[i],\n",
    "            theta=784,\n",
    "            hidden_cell=tf.keras.layers.SimpleRNNCell(units=hidden_units[i]),\n",
    "            return_sequences=True\n",
    "        )\n",
    "        if i == 0:\n",
    "            hidden_outputs.append(lmu_layer(norm_out))\n",
    "        else:\n",
    "            hidden_outputs.append(lmu_layer(hidden_outputs[-1]))\n",
    "\n",
    "    output = tf.keras.layers.Dense(1, activation='linear',\n",
    "                                   kernel_initializer='normal',\n",
    "                                   bias_initializer='zeros')(hidden_outputs[-1])\n",
    "\n",
    "    model = Model(inputs=inputs, outputs=output)\n",
    "    return model\n"
   ],
   "metadata": {
    "collapsed": false,
    "ExecuteTime": {
     "end_time": "2023-07-23T06:07:00.296061900Z",
     "start_time": "2023-07-23T06:07:00.296061900Z"
    }
   }
  },
  {
   "cell_type": "code",
   "execution_count": 21,
   "outputs": [],
   "source": [
    "def DNN_model(name, input_parameters, output_parameters, hidden_units):\n",
    "    input_shape = len(input_parameters)\n",
    "    x = df.loc[:, input_parameters]\n",
    "    y = df.loc[:, output_parameters]\n",
    "\n",
    "    for each in x.columns:\n",
    "        Nan_count = count_Nan(x, each)\n",
    "        if Nan_count == 0:\n",
    "            replace_Nan(x, each)\n",
    "\n",
    "    train_X, test_X, train_Y, test_Y = train_test_split(x, y, test_size=0.1, random_state=123)\n",
    "\n",
    "    # Reshape the data to add a time dimension\n",
    "    train_X = np.reshape(train_X.values, (train_X.shape[0], 1, train_X.shape[1]))\n",
    "    test_X = np.reshape(test_X.values, (test_X.shape[0], 1, test_X.shape[1]))\n",
    "\n",
    "    callback = tf.keras.callbacks.EarlyStopping(monitor='loss', patience=5)\n",
    "\n",
    "    model = create_model(hidden_units, input_shape)\n",
    "    model.compile(optimizer=keras.optimizers.RMSprop(learning_rate=0.01),\n",
    "                  loss='mae',\n",
    "                  metrics=['mse', root_mean_squared_error])\n",
    "\n",
    "    model_res = model.fit(train_X, train_Y, epochs=50, callbacks=[callback])\n",
    "\n",
    "    calculate_mae(model, test_X, test_Y, name)\n",
    "    return model, model_res"
   ],
   "metadata": {
    "collapsed": false,
    "ExecuteTime": {
     "end_time": "2023-07-23T06:07:01.028339600Z",
     "start_time": "2023-07-23T06:07:00.996936100Z"
    }
   }
  },
  {
   "cell_type": "code",
   "execution_count": 22,
   "outputs": [
    {
     "name": "stderr",
     "output_type": "stream",
     "text": [
      "/home/student1/miniconda3/envs/Accident_detection/lib/python3.9/site-packages/keras_lmu/layers.py:865: UserWarning: Approximating unknown impulse length with 5*theta; setting a fixed sequence length on inputs will remove the need for approximation\n",
      "  warnings.warn(\n",
      "2023-07-23 11:37:03.005967: I tensorflow/core/util/cuda_solvers.cc:179] Creating GpuSolver handles for stream 0x1be05710\n"
     ]
    },
    {
     "name": "stdout",
     "output_type": "stream",
     "text": [
      "Epoch 1/50\n"
     ]
    },
    {
     "name": "stderr",
     "output_type": "stream",
     "text": [
      "2023-07-23 11:37:38.244355: I tensorflow/compiler/xla/service/service.cc:173] XLA service 0x7f179c3a5060 initialized for platform CUDA (this does not guarantee that XLA will be used). Devices:\n",
      "2023-07-23 11:37:38.245602: I tensorflow/compiler/xla/service/service.cc:181]   StreamExecutor device (0): NVIDIA GeForce GTX 1080 Ti, Compute Capability 6.1\n",
      "2023-07-23 11:37:38.252069: I tensorflow/compiler/mlir/tensorflow/utils/dump_mlir_util.cc:268] disabling MLIR crash reproducer, set env var `MLIR_CRASH_REPRODUCER_DIRECTORY` to enable.\n",
      "2023-07-23 11:37:38.596077: I tensorflow/compiler/jit/xla_compilation_cache.cc:477] Compiled cluster using XLA!  This line is logged at most once for the lifetime of the process.\n"
     ]
    },
    {
     "name": "stdout",
     "output_type": "stream",
     "text": [
      "  14/1223 [..............................] - ETA: 1:35:49 - loss: 5.8742 - mse: 112.8765 - root_mean_squared_error: 10.6243"
     ]
    },
    {
     "ename": "KeyboardInterrupt",
     "evalue": "",
     "output_type": "error",
     "traceback": [
      "\u001B[0;31m---------------------------------------------------------------------------\u001B[0m",
      "\u001B[0;31mKeyboardInterrupt\u001B[0m                         Traceback (most recent call last)",
      "Cell \u001B[0;32mIn[22], line 1\u001B[0m\n\u001B[0;32m----> 1\u001B[0m UL_ALL_DNN128,UL_ALL_DNN128_RES \u001B[38;5;241m=\u001B[39m \u001B[43mDNN_model\u001B[49m\u001B[43m(\u001B[49m\u001B[38;5;124;43m'\u001B[39;49m\u001B[38;5;124;43mUL_ALL_DNN128\u001B[39;49m\u001B[38;5;124;43m'\u001B[39;49m\u001B[43m,\u001B[49m\u001B[43minput_param\u001B[49m\u001B[43m,\u001B[49m\u001B[43moutput_param\u001B[49m\u001B[43m,\u001B[49m\u001B[43m[\u001B[49m\u001B[38;5;241;43m128\u001B[39;49m\u001B[43m,\u001B[49m\u001B[38;5;241;43m64\u001B[39;49m\u001B[43m,\u001B[49m\u001B[38;5;241;43m32\u001B[39;49m\u001B[43m,\u001B[49m\u001B[38;5;241;43m16\u001B[39;49m\u001B[43m]\u001B[49m\u001B[43m)\u001B[49m\n",
      "Cell \u001B[0;32mIn[21], line 24\u001B[0m, in \u001B[0;36mDNN_model\u001B[0;34m(name, input_parameters, output_parameters, hidden_units)\u001B[0m\n\u001B[1;32m     19\u001B[0m model \u001B[38;5;241m=\u001B[39m create_model(hidden_units, input_shape)\n\u001B[1;32m     20\u001B[0m model\u001B[38;5;241m.\u001B[39mcompile(optimizer\u001B[38;5;241m=\u001B[39mkeras\u001B[38;5;241m.\u001B[39moptimizers\u001B[38;5;241m.\u001B[39mRMSprop(learning_rate\u001B[38;5;241m=\u001B[39m\u001B[38;5;241m0.01\u001B[39m),\n\u001B[1;32m     21\u001B[0m               loss\u001B[38;5;241m=\u001B[39m\u001B[38;5;124m'\u001B[39m\u001B[38;5;124mmae\u001B[39m\u001B[38;5;124m'\u001B[39m,\n\u001B[1;32m     22\u001B[0m               metrics\u001B[38;5;241m=\u001B[39m[\u001B[38;5;124m'\u001B[39m\u001B[38;5;124mmse\u001B[39m\u001B[38;5;124m'\u001B[39m, root_mean_squared_error])\n\u001B[0;32m---> 24\u001B[0m model_res \u001B[38;5;241m=\u001B[39m \u001B[43mmodel\u001B[49m\u001B[38;5;241;43m.\u001B[39;49m\u001B[43mfit\u001B[49m\u001B[43m(\u001B[49m\u001B[43mtrain_X\u001B[49m\u001B[43m,\u001B[49m\u001B[43m \u001B[49m\u001B[43mtrain_Y\u001B[49m\u001B[43m,\u001B[49m\u001B[43m \u001B[49m\u001B[43mepochs\u001B[49m\u001B[38;5;241;43m=\u001B[39;49m\u001B[38;5;241;43m50\u001B[39;49m\u001B[43m,\u001B[49m\u001B[43m \u001B[49m\u001B[43mcallbacks\u001B[49m\u001B[38;5;241;43m=\u001B[39;49m\u001B[43m[\u001B[49m\u001B[43mcallback\u001B[49m\u001B[43m]\u001B[49m\u001B[43m)\u001B[49m\n\u001B[1;32m     26\u001B[0m calculate_mae(model, test_X, test_Y, name)\n\u001B[1;32m     27\u001B[0m \u001B[38;5;28;01mreturn\u001B[39;00m model, model_res\n",
      "File \u001B[0;32m~/miniconda3/envs/Accident_detection/lib/python3.9/site-packages/keras/utils/traceback_utils.py:65\u001B[0m, in \u001B[0;36mfilter_traceback.<locals>.error_handler\u001B[0;34m(*args, **kwargs)\u001B[0m\n\u001B[1;32m     63\u001B[0m filtered_tb \u001B[38;5;241m=\u001B[39m \u001B[38;5;28;01mNone\u001B[39;00m\n\u001B[1;32m     64\u001B[0m \u001B[38;5;28;01mtry\u001B[39;00m:\n\u001B[0;32m---> 65\u001B[0m     \u001B[38;5;28;01mreturn\u001B[39;00m \u001B[43mfn\u001B[49m\u001B[43m(\u001B[49m\u001B[38;5;241;43m*\u001B[39;49m\u001B[43margs\u001B[49m\u001B[43m,\u001B[49m\u001B[43m \u001B[49m\u001B[38;5;241;43m*\u001B[39;49m\u001B[38;5;241;43m*\u001B[39;49m\u001B[43mkwargs\u001B[49m\u001B[43m)\u001B[49m\n\u001B[1;32m     66\u001B[0m \u001B[38;5;28;01mexcept\u001B[39;00m \u001B[38;5;167;01mException\u001B[39;00m \u001B[38;5;28;01mas\u001B[39;00m e:\n\u001B[1;32m     67\u001B[0m     filtered_tb \u001B[38;5;241m=\u001B[39m _process_traceback_frames(e\u001B[38;5;241m.\u001B[39m__traceback__)\n",
      "File \u001B[0;32m~/miniconda3/envs/Accident_detection/lib/python3.9/site-packages/keras/engine/training.py:1650\u001B[0m, in \u001B[0;36mModel.fit\u001B[0;34m(self, x, y, batch_size, epochs, verbose, callbacks, validation_split, validation_data, shuffle, class_weight, sample_weight, initial_epoch, steps_per_epoch, validation_steps, validation_batch_size, validation_freq, max_queue_size, workers, use_multiprocessing)\u001B[0m\n\u001B[1;32m   1642\u001B[0m \u001B[38;5;28;01mwith\u001B[39;00m tf\u001B[38;5;241m.\u001B[39mprofiler\u001B[38;5;241m.\u001B[39mexperimental\u001B[38;5;241m.\u001B[39mTrace(\n\u001B[1;32m   1643\u001B[0m     \u001B[38;5;124m\"\u001B[39m\u001B[38;5;124mtrain\u001B[39m\u001B[38;5;124m\"\u001B[39m,\n\u001B[1;32m   1644\u001B[0m     epoch_num\u001B[38;5;241m=\u001B[39mepoch,\n\u001B[0;32m   (...)\u001B[0m\n\u001B[1;32m   1647\u001B[0m     _r\u001B[38;5;241m=\u001B[39m\u001B[38;5;241m1\u001B[39m,\n\u001B[1;32m   1648\u001B[0m ):\n\u001B[1;32m   1649\u001B[0m     callbacks\u001B[38;5;241m.\u001B[39mon_train_batch_begin(step)\n\u001B[0;32m-> 1650\u001B[0m     tmp_logs \u001B[38;5;241m=\u001B[39m \u001B[38;5;28;43mself\u001B[39;49m\u001B[38;5;241;43m.\u001B[39;49m\u001B[43mtrain_function\u001B[49m\u001B[43m(\u001B[49m\u001B[43miterator\u001B[49m\u001B[43m)\u001B[49m\n\u001B[1;32m   1651\u001B[0m     \u001B[38;5;28;01mif\u001B[39;00m data_handler\u001B[38;5;241m.\u001B[39mshould_sync:\n\u001B[1;32m   1652\u001B[0m         context\u001B[38;5;241m.\u001B[39masync_wait()\n",
      "File \u001B[0;32m~/miniconda3/envs/Accident_detection/lib/python3.9/site-packages/tensorflow/python/util/traceback_utils.py:150\u001B[0m, in \u001B[0;36mfilter_traceback.<locals>.error_handler\u001B[0;34m(*args, **kwargs)\u001B[0m\n\u001B[1;32m    148\u001B[0m filtered_tb \u001B[38;5;241m=\u001B[39m \u001B[38;5;28;01mNone\u001B[39;00m\n\u001B[1;32m    149\u001B[0m \u001B[38;5;28;01mtry\u001B[39;00m:\n\u001B[0;32m--> 150\u001B[0m   \u001B[38;5;28;01mreturn\u001B[39;00m \u001B[43mfn\u001B[49m\u001B[43m(\u001B[49m\u001B[38;5;241;43m*\u001B[39;49m\u001B[43margs\u001B[49m\u001B[43m,\u001B[49m\u001B[43m \u001B[49m\u001B[38;5;241;43m*\u001B[39;49m\u001B[38;5;241;43m*\u001B[39;49m\u001B[43mkwargs\u001B[49m\u001B[43m)\u001B[49m\n\u001B[1;32m    151\u001B[0m \u001B[38;5;28;01mexcept\u001B[39;00m \u001B[38;5;167;01mException\u001B[39;00m \u001B[38;5;28;01mas\u001B[39;00m e:\n\u001B[1;32m    152\u001B[0m   filtered_tb \u001B[38;5;241m=\u001B[39m _process_traceback_frames(e\u001B[38;5;241m.\u001B[39m__traceback__)\n",
      "File \u001B[0;32m~/miniconda3/envs/Accident_detection/lib/python3.9/site-packages/tensorflow/python/eager/polymorphic_function/polymorphic_function.py:880\u001B[0m, in \u001B[0;36mFunction.__call__\u001B[0;34m(self, *args, **kwds)\u001B[0m\n\u001B[1;32m    877\u001B[0m compiler \u001B[38;5;241m=\u001B[39m \u001B[38;5;124m\"\u001B[39m\u001B[38;5;124mxla\u001B[39m\u001B[38;5;124m\"\u001B[39m \u001B[38;5;28;01mif\u001B[39;00m \u001B[38;5;28mself\u001B[39m\u001B[38;5;241m.\u001B[39m_jit_compile \u001B[38;5;28;01melse\u001B[39;00m \u001B[38;5;124m\"\u001B[39m\u001B[38;5;124mnonXla\u001B[39m\u001B[38;5;124m\"\u001B[39m\n\u001B[1;32m    879\u001B[0m \u001B[38;5;28;01mwith\u001B[39;00m OptionalXlaContext(\u001B[38;5;28mself\u001B[39m\u001B[38;5;241m.\u001B[39m_jit_compile):\n\u001B[0;32m--> 880\u001B[0m   result \u001B[38;5;241m=\u001B[39m \u001B[38;5;28;43mself\u001B[39;49m\u001B[38;5;241;43m.\u001B[39;49m\u001B[43m_call\u001B[49m\u001B[43m(\u001B[49m\u001B[38;5;241;43m*\u001B[39;49m\u001B[43margs\u001B[49m\u001B[43m,\u001B[49m\u001B[43m \u001B[49m\u001B[38;5;241;43m*\u001B[39;49m\u001B[38;5;241;43m*\u001B[39;49m\u001B[43mkwds\u001B[49m\u001B[43m)\u001B[49m\n\u001B[1;32m    882\u001B[0m new_tracing_count \u001B[38;5;241m=\u001B[39m \u001B[38;5;28mself\u001B[39m\u001B[38;5;241m.\u001B[39mexperimental_get_tracing_count()\n\u001B[1;32m    883\u001B[0m without_tracing \u001B[38;5;241m=\u001B[39m (tracing_count \u001B[38;5;241m==\u001B[39m new_tracing_count)\n",
      "File \u001B[0;32m~/miniconda3/envs/Accident_detection/lib/python3.9/site-packages/tensorflow/python/eager/polymorphic_function/polymorphic_function.py:912\u001B[0m, in \u001B[0;36mFunction._call\u001B[0;34m(self, *args, **kwds)\u001B[0m\n\u001B[1;32m    909\u001B[0m   \u001B[38;5;28mself\u001B[39m\u001B[38;5;241m.\u001B[39m_lock\u001B[38;5;241m.\u001B[39mrelease()\n\u001B[1;32m    910\u001B[0m   \u001B[38;5;66;03m# In this case we have created variables on the first call, so we run the\u001B[39;00m\n\u001B[1;32m    911\u001B[0m   \u001B[38;5;66;03m# defunned version which is guaranteed to never create variables.\u001B[39;00m\n\u001B[0;32m--> 912\u001B[0m   \u001B[38;5;28;01mreturn\u001B[39;00m \u001B[38;5;28;43mself\u001B[39;49m\u001B[38;5;241;43m.\u001B[39;49m\u001B[43m_no_variable_creation_fn\u001B[49m\u001B[43m(\u001B[49m\u001B[38;5;241;43m*\u001B[39;49m\u001B[43margs\u001B[49m\u001B[43m,\u001B[49m\u001B[43m \u001B[49m\u001B[38;5;241;43m*\u001B[39;49m\u001B[38;5;241;43m*\u001B[39;49m\u001B[43mkwds\u001B[49m\u001B[43m)\u001B[49m  \u001B[38;5;66;03m# pylint: disable=not-callable\u001B[39;00m\n\u001B[1;32m    913\u001B[0m \u001B[38;5;28;01melif\u001B[39;00m \u001B[38;5;28mself\u001B[39m\u001B[38;5;241m.\u001B[39m_variable_creation_fn \u001B[38;5;129;01mis\u001B[39;00m \u001B[38;5;129;01mnot\u001B[39;00m \u001B[38;5;28;01mNone\u001B[39;00m:\n\u001B[1;32m    914\u001B[0m   \u001B[38;5;66;03m# Release the lock early so that multiple threads can perform the call\u001B[39;00m\n\u001B[1;32m    915\u001B[0m   \u001B[38;5;66;03m# in parallel.\u001B[39;00m\n\u001B[1;32m    916\u001B[0m   \u001B[38;5;28mself\u001B[39m\u001B[38;5;241m.\u001B[39m_lock\u001B[38;5;241m.\u001B[39mrelease()\n",
      "File \u001B[0;32m~/miniconda3/envs/Accident_detection/lib/python3.9/site-packages/tensorflow/python/eager/polymorphic_function/tracing_compiler.py:134\u001B[0m, in \u001B[0;36mTracingCompiler.__call__\u001B[0;34m(self, *args, **kwargs)\u001B[0m\n\u001B[1;32m    131\u001B[0m \u001B[38;5;28;01mwith\u001B[39;00m \u001B[38;5;28mself\u001B[39m\u001B[38;5;241m.\u001B[39m_lock:\n\u001B[1;32m    132\u001B[0m   (concrete_function,\n\u001B[1;32m    133\u001B[0m    filtered_flat_args) \u001B[38;5;241m=\u001B[39m \u001B[38;5;28mself\u001B[39m\u001B[38;5;241m.\u001B[39m_maybe_define_function(args, kwargs)\n\u001B[0;32m--> 134\u001B[0m \u001B[38;5;28;01mreturn\u001B[39;00m \u001B[43mconcrete_function\u001B[49m\u001B[38;5;241;43m.\u001B[39;49m\u001B[43m_call_flat\u001B[49m\u001B[43m(\u001B[49m\n\u001B[1;32m    135\u001B[0m \u001B[43m    \u001B[49m\u001B[43mfiltered_flat_args\u001B[49m\u001B[43m,\u001B[49m\u001B[43m \u001B[49m\u001B[43mcaptured_inputs\u001B[49m\u001B[38;5;241;43m=\u001B[39;49m\u001B[43mconcrete_function\u001B[49m\u001B[38;5;241;43m.\u001B[39;49m\u001B[43mcaptured_inputs\u001B[49m\u001B[43m)\u001B[49m\n",
      "File \u001B[0;32m~/miniconda3/envs/Accident_detection/lib/python3.9/site-packages/tensorflow/python/eager/polymorphic_function/monomorphic_function.py:1745\u001B[0m, in \u001B[0;36mConcreteFunction._call_flat\u001B[0;34m(self, args, captured_inputs, cancellation_manager)\u001B[0m\n\u001B[1;32m   1741\u001B[0m possible_gradient_type \u001B[38;5;241m=\u001B[39m gradients_util\u001B[38;5;241m.\u001B[39mPossibleTapeGradientTypes(args)\n\u001B[1;32m   1742\u001B[0m \u001B[38;5;28;01mif\u001B[39;00m (possible_gradient_type \u001B[38;5;241m==\u001B[39m gradients_util\u001B[38;5;241m.\u001B[39mPOSSIBLE_GRADIENT_TYPES_NONE\n\u001B[1;32m   1743\u001B[0m     \u001B[38;5;129;01mand\u001B[39;00m executing_eagerly):\n\u001B[1;32m   1744\u001B[0m   \u001B[38;5;66;03m# No tape is watching; skip to running the function.\u001B[39;00m\n\u001B[0;32m-> 1745\u001B[0m   \u001B[38;5;28;01mreturn\u001B[39;00m \u001B[38;5;28mself\u001B[39m\u001B[38;5;241m.\u001B[39m_build_call_outputs(\u001B[38;5;28;43mself\u001B[39;49m\u001B[38;5;241;43m.\u001B[39;49m\u001B[43m_inference_function\u001B[49m\u001B[38;5;241;43m.\u001B[39;49m\u001B[43mcall\u001B[49m\u001B[43m(\u001B[49m\n\u001B[1;32m   1746\u001B[0m \u001B[43m      \u001B[49m\u001B[43mctx\u001B[49m\u001B[43m,\u001B[49m\u001B[43m \u001B[49m\u001B[43margs\u001B[49m\u001B[43m,\u001B[49m\u001B[43m \u001B[49m\u001B[43mcancellation_manager\u001B[49m\u001B[38;5;241;43m=\u001B[39;49m\u001B[43mcancellation_manager\u001B[49m\u001B[43m)\u001B[49m)\n\u001B[1;32m   1747\u001B[0m forward_backward \u001B[38;5;241m=\u001B[39m \u001B[38;5;28mself\u001B[39m\u001B[38;5;241m.\u001B[39m_select_forward_and_backward_functions(\n\u001B[1;32m   1748\u001B[0m     args,\n\u001B[1;32m   1749\u001B[0m     possible_gradient_type,\n\u001B[1;32m   1750\u001B[0m     executing_eagerly)\n\u001B[1;32m   1751\u001B[0m forward_function, args_with_tangents \u001B[38;5;241m=\u001B[39m forward_backward\u001B[38;5;241m.\u001B[39mforward()\n",
      "File \u001B[0;32m~/miniconda3/envs/Accident_detection/lib/python3.9/site-packages/tensorflow/python/eager/polymorphic_function/monomorphic_function.py:378\u001B[0m, in \u001B[0;36m_EagerDefinedFunction.call\u001B[0;34m(self, ctx, args, cancellation_manager)\u001B[0m\n\u001B[1;32m    376\u001B[0m \u001B[38;5;28;01mwith\u001B[39;00m _InterpolateFunctionError(\u001B[38;5;28mself\u001B[39m):\n\u001B[1;32m    377\u001B[0m   \u001B[38;5;28;01mif\u001B[39;00m cancellation_manager \u001B[38;5;129;01mis\u001B[39;00m \u001B[38;5;28;01mNone\u001B[39;00m:\n\u001B[0;32m--> 378\u001B[0m     outputs \u001B[38;5;241m=\u001B[39m \u001B[43mexecute\u001B[49m\u001B[38;5;241;43m.\u001B[39;49m\u001B[43mexecute\u001B[49m\u001B[43m(\u001B[49m\n\u001B[1;32m    379\u001B[0m \u001B[43m        \u001B[49m\u001B[38;5;28;43mstr\u001B[39;49m\u001B[43m(\u001B[49m\u001B[38;5;28;43mself\u001B[39;49m\u001B[38;5;241;43m.\u001B[39;49m\u001B[43msignature\u001B[49m\u001B[38;5;241;43m.\u001B[39;49m\u001B[43mname\u001B[49m\u001B[43m)\u001B[49m\u001B[43m,\u001B[49m\n\u001B[1;32m    380\u001B[0m \u001B[43m        \u001B[49m\u001B[43mnum_outputs\u001B[49m\u001B[38;5;241;43m=\u001B[39;49m\u001B[38;5;28;43mself\u001B[39;49m\u001B[38;5;241;43m.\u001B[39;49m\u001B[43m_num_outputs\u001B[49m\u001B[43m,\u001B[49m\n\u001B[1;32m    381\u001B[0m \u001B[43m        \u001B[49m\u001B[43minputs\u001B[49m\u001B[38;5;241;43m=\u001B[39;49m\u001B[43margs\u001B[49m\u001B[43m,\u001B[49m\n\u001B[1;32m    382\u001B[0m \u001B[43m        \u001B[49m\u001B[43mattrs\u001B[49m\u001B[38;5;241;43m=\u001B[39;49m\u001B[43mattrs\u001B[49m\u001B[43m,\u001B[49m\n\u001B[1;32m    383\u001B[0m \u001B[43m        \u001B[49m\u001B[43mctx\u001B[49m\u001B[38;5;241;43m=\u001B[39;49m\u001B[43mctx\u001B[49m\u001B[43m)\u001B[49m\n\u001B[1;32m    384\u001B[0m   \u001B[38;5;28;01melse\u001B[39;00m:\n\u001B[1;32m    385\u001B[0m     outputs \u001B[38;5;241m=\u001B[39m execute\u001B[38;5;241m.\u001B[39mexecute_with_cancellation(\n\u001B[1;32m    386\u001B[0m         \u001B[38;5;28mstr\u001B[39m(\u001B[38;5;28mself\u001B[39m\u001B[38;5;241m.\u001B[39msignature\u001B[38;5;241m.\u001B[39mname),\n\u001B[1;32m    387\u001B[0m         num_outputs\u001B[38;5;241m=\u001B[39m\u001B[38;5;28mself\u001B[39m\u001B[38;5;241m.\u001B[39m_num_outputs,\n\u001B[0;32m   (...)\u001B[0m\n\u001B[1;32m    390\u001B[0m         ctx\u001B[38;5;241m=\u001B[39mctx,\n\u001B[1;32m    391\u001B[0m         cancellation_manager\u001B[38;5;241m=\u001B[39mcancellation_manager)\n",
      "File \u001B[0;32m~/miniconda3/envs/Accident_detection/lib/python3.9/site-packages/tensorflow/python/eager/execute.py:52\u001B[0m, in \u001B[0;36mquick_execute\u001B[0;34m(op_name, num_outputs, inputs, attrs, ctx, name)\u001B[0m\n\u001B[1;32m     50\u001B[0m \u001B[38;5;28;01mtry\u001B[39;00m:\n\u001B[1;32m     51\u001B[0m   ctx\u001B[38;5;241m.\u001B[39mensure_initialized()\n\u001B[0;32m---> 52\u001B[0m   tensors \u001B[38;5;241m=\u001B[39m \u001B[43mpywrap_tfe\u001B[49m\u001B[38;5;241;43m.\u001B[39;49m\u001B[43mTFE_Py_Execute\u001B[49m\u001B[43m(\u001B[49m\u001B[43mctx\u001B[49m\u001B[38;5;241;43m.\u001B[39;49m\u001B[43m_handle\u001B[49m\u001B[43m,\u001B[49m\u001B[43m \u001B[49m\u001B[43mdevice_name\u001B[49m\u001B[43m,\u001B[49m\u001B[43m \u001B[49m\u001B[43mop_name\u001B[49m\u001B[43m,\u001B[49m\n\u001B[1;32m     53\u001B[0m \u001B[43m                                      \u001B[49m\u001B[43minputs\u001B[49m\u001B[43m,\u001B[49m\u001B[43m \u001B[49m\u001B[43mattrs\u001B[49m\u001B[43m,\u001B[49m\u001B[43m \u001B[49m\u001B[43mnum_outputs\u001B[49m\u001B[43m)\u001B[49m\n\u001B[1;32m     54\u001B[0m \u001B[38;5;28;01mexcept\u001B[39;00m core\u001B[38;5;241m.\u001B[39m_NotOkStatusException \u001B[38;5;28;01mas\u001B[39;00m e:\n\u001B[1;32m     55\u001B[0m   \u001B[38;5;28;01mif\u001B[39;00m name \u001B[38;5;129;01mis\u001B[39;00m \u001B[38;5;129;01mnot\u001B[39;00m \u001B[38;5;28;01mNone\u001B[39;00m:\n",
      "\u001B[0;31mKeyboardInterrupt\u001B[0m: "
     ]
    }
   ],
   "source": [
    "UL_ALL_DNN128,UL_ALL_DNN128_RES = DNN_model('UL_ALL_DNN128',input_param,output_param,[128,64,32,16])"
   ],
   "metadata": {
    "collapsed": false,
    "ExecuteTime": {
     "end_time": "2023-07-23T06:08:50.851194900Z",
     "start_time": "2023-07-23T06:07:01.829200Z"
    }
   }
  },
  {
   "cell_type": "code",
   "execution_count": null,
   "outputs": [],
   "source": [],
   "metadata": {
    "collapsed": false
   }
  }
 ],
 "metadata": {
  "kernelspec": {
   "name": "accident_detection",
   "language": "python",
   "display_name": "Accident_detection"
  },
  "language_info": {
   "codemirror_mode": {
    "name": "ipython",
    "version": 2
   },
   "file_extension": ".py",
   "mimetype": "text/x-python",
   "name": "python",
   "nbconvert_exporter": "python",
   "pygments_lexer": "ipython2",
   "version": "2.7.6"
  }
 },
 "nbformat": 4,
 "nbformat_minor": 0
}
