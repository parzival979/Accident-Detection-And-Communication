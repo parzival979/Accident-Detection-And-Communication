{
 "cells": [
  {
   "cell_type": "code",
   "execution_count": 1,
   "metadata": {
    "collapsed": true,
    "ExecuteTime": {
     "end_time": "2023-07-23T06:19:22.468175200Z",
     "start_time": "2023-07-23T06:19:19.898019600Z"
    }
   },
   "outputs": [
    {
     "name": "stderr",
     "output_type": "stream",
     "text": [
      "2023-07-23 11:49:20.235616: I tensorflow/core/platform/cpu_feature_guard.cc:193] This TensorFlow binary is optimized with oneAPI Deep Neural Network Library (oneDNN) to use the following CPU instructions in performance-critical operations:  AVX2 FMA\n",
      "To enable them in other operations, rebuild TensorFlow with the appropriate compiler flags.\n",
      "2023-07-23 11:49:21.394840: W tensorflow/compiler/xla/stream_executor/platform/default/dso_loader.cc:64] Could not load dynamic library 'libnvinfer.so.7'; dlerror: libnvinfer.so.7: cannot open shared object file: No such file or directory; LD_LIBRARY_PATH: /home/student1/openssl/lib:\n",
      "2023-07-23 11:49:21.394946: W tensorflow/compiler/xla/stream_executor/platform/default/dso_loader.cc:64] Could not load dynamic library 'libnvinfer_plugin.so.7'; dlerror: libnvinfer_plugin.so.7: cannot open shared object file: No such file or directory; LD_LIBRARY_PATH: /home/student1/openssl/lib:\n",
      "2023-07-23 11:49:21.394960: W tensorflow/compiler/tf2tensorrt/utils/py_utils.cc:38] TF-TRT Warning: Cannot dlopen some TensorRT libraries. If you would like to use Nvidia GPU with TensorRT, please make sure the missing libraries mentioned above are installed properly.\n"
     ]
    }
   ],
   "source": [
    "import keras\n",
    "import numpy as np\n",
    "import pandas as pd\n",
    "import matplotlib.pyplot as plt\n",
    "import tensorflow as tf\n",
    "from keras import layers"
   ]
  },
  {
   "cell_type": "code",
   "execution_count": 2,
   "outputs": [],
   "source": [
    "batch_size = 100\n",
    "img_height = 250\n",
    "img_width = 250"
   ],
   "metadata": {
    "collapsed": false,
    "ExecuteTime": {
     "end_time": "2023-07-23T06:20:21.925713100Z",
     "start_time": "2023-07-23T06:20:21.848898600Z"
    }
   }
  },
  {
   "cell_type": "code",
   "execution_count": 3,
   "outputs": [
    {
     "name": "stdout",
     "output_type": "stream",
     "text": [
      "Found 791 files belonging to 2 classes.\n",
      "Found 100 files belonging to 2 classes.\n",
      "Found 98 files belonging to 2 classes.\n"
     ]
    },
    {
     "name": "stderr",
     "output_type": "stream",
     "text": [
      "2023-07-23 11:50:27.093720: I tensorflow/core/platform/cpu_feature_guard.cc:193] This TensorFlow binary is optimized with oneAPI Deep Neural Network Library (oneDNN) to use the following CPU instructions in performance-critical operations:  AVX2 FMA\n",
      "To enable them in other operations, rebuild TensorFlow with the appropriate compiler flags.\n",
      "2023-07-23 11:50:27.817204: I tensorflow/core/common_runtime/gpu/gpu_device.cc:1613] Created device /job:localhost/replica:0/task:0/device:GPU:0 with 10405 MB memory:  -> device: 0, name: NVIDIA GeForce GTX 1080 Ti, pci bus id: 0000:89:00.0, compute capability: 6.1\n"
     ]
    }
   ],
   "source": [
    "training_ds = tf.keras.preprocessing.image_dataset_from_directory(\n",
    "    'data/train',\n",
    "    seed=101,\n",
    "    image_size=(img_height, img_width),\n",
    "    batch_size=batch_size\n",
    "\n",
    ")\n",
    "\n",
    "testing_ds = tf.keras.preprocessing.image_dataset_from_directory(\n",
    "    'data/test',\n",
    "    seed=101,\n",
    "    image_size=(img_height, img_width),\n",
    "    batch_size=batch_size)\n",
    "\n",
    "validation_ds = tf.keras.preprocessing.image_dataset_from_directory(\n",
    "    'data/val',\n",
    "    seed=101,\n",
    "    image_size=(img_height, img_width),\n",
    "    batch_size=batch_size)"
   ],
   "metadata": {
    "collapsed": false,
    "ExecuteTime": {
     "end_time": "2023-07-23T06:20:27.600204600Z",
     "start_time": "2023-07-23T06:20:22.479637300Z"
    }
   }
  },
  {
   "cell_type": "code",
   "execution_count": 4,
   "outputs": [],
   "source": [
    "class_names = training_ds.class_names\n",
    "\n",
    "## Configuring dataset for performance\n",
    "AUTOTUNE = tf.data.experimental.AUTOTUNE\n",
    "training_ds = training_ds.cache().prefetch(buffer_size=AUTOTUNE)\n",
    "testing_ds = testing_ds.cache().prefetch(buffer_size=AUTOTUNE)"
   ],
   "metadata": {
    "collapsed": false,
    "ExecuteTime": {
     "end_time": "2023-07-23T06:20:27.949799500Z",
     "start_time": "2023-07-23T06:20:27.916716600Z"
    }
   }
  },
  {
   "cell_type": "code",
   "execution_count": 5,
   "outputs": [
    {
     "name": "stdout",
     "output_type": "stream",
     "text": [
      "WARNING:tensorflow:`input_shape` is undefined or non-square, or `rows` is not in [96, 128, 160, 192, 224]. Weights for input shape (224, 224) will be loaded as the default.\n",
      "WARNING:tensorflow:From /home/student1/miniconda3/envs/Accident_detection/lib/python3.9/site-packages/tensorflow/python/autograph/pyct/static_analysis/liveness.py:83: Analyzer.lamba_check (from tensorflow.python.autograph.pyct.static_analysis.liveness) is deprecated and will be removed after 2023-09-23.\n",
      "Instructions for updating:\n",
      "Lambda fuctions will be no more assumed to be used in the statement where they are used, or at least in the same block. https://github.com/tensorflow/tensorflow/issues/56089\n",
      "Model: \"model\"\n",
      "_________________________________________________________________\n",
      " Layer (type)                Output Shape              Param #   \n",
      "=================================================================\n",
      " input_2 (InputLayer)        [(None, 250, 250, 3)]     0         \n",
      "                                                                 \n",
      " sequential (Sequential)     (None, 2)                 2720034   \n",
      "                                                                 \n",
      "=================================================================\n",
      "Total params: 2,720,034\n",
      "Trainable params: 462,050\n",
      "Non-trainable params: 2,257,984\n",
      "_________________________________________________________________\n"
     ]
    }
   ],
   "source": [
    "import tensorflow as tf\n",
    "from tensorflow.keras import layers\n",
    "import keras_spiking\n",
    "\n",
    "img_shape = (img_height, img_width, 3)\n",
    "\n",
    "base_model = tf.keras.applications.MobileNetV2(input_shape=img_shape,\n",
    "                                               include_top=False,\n",
    "                                               weights='imagenet')\n",
    "\n",
    "base_model.trainable = False\n",
    "\n",
    "# Input data does not need a time dimension for this approach\n",
    "inp = tf.keras.Input(img_shape)\n",
    "\n",
    "# Add SpikingActivation to Conv2D layers\n",
    "model = tf.keras.Sequential([\n",
    "    base_model,\n",
    "    layers.Conv2D(32, 3),\n",
    "    keras_spiking.SpikingActivation('relu',dt = 0.1),\n",
    "    layers.Conv2D(64, 3),\n",
    "    keras_spiking.SpikingActivation('relu'),\n",
    "    layers.Conv2D(128, 3),\n",
    "    keras_spiking.SpikingActivation('relu'),\n",
    "\n",
    "    layers.Flatten(),\n",
    "    layers.Dense(len(class_names), activation= 'softmax')\n",
    "])\n",
    "\n",
    "spiking_model = tf.keras.Model(inp, model(inp))\n",
    "\n",
    "spiking_model.summary()"
   ],
   "metadata": {
    "collapsed": false,
    "ExecuteTime": {
     "end_time": "2023-07-23T06:20:32.371141200Z",
     "start_time": "2023-07-23T06:20:29.319139Z"
    }
   }
  },
  {
   "cell_type": "code",
   "execution_count": 6,
   "outputs": [],
   "source": [
    "model.compile(optimizer='adam',loss='sparse_categorical_crossentropy', metrics=['accuracy'])"
   ],
   "metadata": {
    "collapsed": false,
    "ExecuteTime": {
     "end_time": "2023-07-23T06:20:32.371141200Z",
     "start_time": "2023-07-23T06:20:32.371141200Z"
    }
   }
  },
  {
   "cell_type": "code",
   "execution_count": 7,
   "outputs": [
    {
     "name": "stdout",
     "output_type": "stream",
     "text": [
      "Epoch 1/100\n"
     ]
    },
    {
     "name": "stderr",
     "output_type": "stream",
     "text": [
      "2023-07-23 11:50:39.240184: I tensorflow/compiler/xla/stream_executor/cuda/cuda_dnn.cc:428] Loaded cuDNN version 8200\n",
      "2023-07-23 11:50:40.920392: I tensorflow/compiler/xla/service/service.cc:173] XLA service 0x7f82644200b0 initialized for platform CUDA (this does not guarantee that XLA will be used). Devices:\n",
      "2023-07-23 11:50:40.920466: I tensorflow/compiler/xla/service/service.cc:181]   StreamExecutor device (0): NVIDIA GeForce GTX 1080 Ti, Compute Capability 6.1\n",
      "2023-07-23 11:50:40.934301: I tensorflow/compiler/mlir/tensorflow/utils/dump_mlir_util.cc:268] disabling MLIR crash reproducer, set env var `MLIR_CRASH_REPRODUCER_DIRECTORY` to enable.\n",
      "2023-07-23 11:50:41.353535: I tensorflow/compiler/jit/xla_compilation_cache.cc:477] Compiled cluster using XLA!  This line is logged at most once for the lifetime of the process.\n"
     ]
    },
    {
     "name": "stdout",
     "output_type": "stream",
     "text": [
      "8/8 [==============================] - 12s 427ms/step - loss: 68.0105 - accuracy: 0.4893 - val_loss: 73.0375 - val_accuracy: 0.5204\n",
      "Epoch 2/100\n",
      "8/8 [==============================] - 1s 150ms/step - loss: 88.4536 - accuracy: 0.5107 - val_loss: 102.8635 - val_accuracy: 0.4490\n",
      "Epoch 3/100\n",
      "8/8 [==============================] - 1s 151ms/step - loss: 93.4866 - accuracy: 0.5272 - val_loss: 115.8167 - val_accuracy: 0.5204\n",
      "Epoch 4/100\n",
      "8/8 [==============================] - 1s 149ms/step - loss: 108.6657 - accuracy: 0.5297 - val_loss: 95.5113 - val_accuracy: 0.5714\n",
      "Epoch 5/100\n",
      "8/8 [==============================] - 1s 150ms/step - loss: 119.6809 - accuracy: 0.4968 - val_loss: 124.8097 - val_accuracy: 0.6020\n",
      "Epoch 6/100\n",
      "8/8 [==============================] - 1s 151ms/step - loss: 114.0116 - accuracy: 0.5487 - val_loss: 135.1213 - val_accuracy: 0.5102\n",
      "Epoch 7/100\n",
      "8/8 [==============================] - 1s 150ms/step - loss: 109.6387 - accuracy: 0.5689 - val_loss: 85.4530 - val_accuracy: 0.6429\n",
      "Epoch 8/100\n",
      "8/8 [==============================] - 1s 151ms/step - loss: 98.4820 - accuracy: 0.6157 - val_loss: 102.4492 - val_accuracy: 0.5918\n",
      "Epoch 9/100\n",
      "8/8 [==============================] - 1s 154ms/step - loss: 81.6615 - accuracy: 0.6384 - val_loss: 67.5011 - val_accuracy: 0.6735\n",
      "Epoch 10/100\n",
      "8/8 [==============================] - 1s 153ms/step - loss: 70.3356 - accuracy: 0.6422 - val_loss: 80.0945 - val_accuracy: 0.6020\n",
      "Epoch 11/100\n",
      "8/8 [==============================] - 1s 153ms/step - loss: 61.4496 - accuracy: 0.7054 - val_loss: 103.4479 - val_accuracy: 0.6224\n",
      "Epoch 12/100\n",
      "8/8 [==============================] - 1s 153ms/step - loss: 61.7823 - accuracy: 0.7042 - val_loss: 93.5116 - val_accuracy: 0.6429\n",
      "Epoch 13/100\n",
      "8/8 [==============================] - 1s 150ms/step - loss: 58.3976 - accuracy: 0.6979 - val_loss: 65.0041 - val_accuracy: 0.7041\n",
      "Epoch 14/100\n",
      "8/8 [==============================] - 1s 150ms/step - loss: 50.4936 - accuracy: 0.7155 - val_loss: 40.5249 - val_accuracy: 0.7551\n",
      "Epoch 15/100\n",
      "8/8 [==============================] - 1s 150ms/step - loss: 46.9165 - accuracy: 0.7155 - val_loss: 51.1573 - val_accuracy: 0.6735\n",
      "Epoch 16/100\n",
      "8/8 [==============================] - 1s 159ms/step - loss: 42.7042 - accuracy: 0.7118 - val_loss: 46.1634 - val_accuracy: 0.6939\n",
      "Epoch 17/100\n",
      "8/8 [==============================] - 1s 159ms/step - loss: 36.4864 - accuracy: 0.7269 - val_loss: 60.2267 - val_accuracy: 0.6939\n",
      "Epoch 18/100\n",
      "8/8 [==============================] - 1s 161ms/step - loss: 27.0354 - accuracy: 0.7851 - val_loss: 41.4478 - val_accuracy: 0.7245\n",
      "Epoch 19/100\n",
      "8/8 [==============================] - 1s 153ms/step - loss: 24.1779 - accuracy: 0.7712 - val_loss: 26.1523 - val_accuracy: 0.7245\n",
      "Epoch 20/100\n",
      "8/8 [==============================] - 1s 149ms/step - loss: 22.3669 - accuracy: 0.7889 - val_loss: 27.5905 - val_accuracy: 0.7959\n",
      "Epoch 21/100\n",
      "8/8 [==============================] - 1s 151ms/step - loss: 20.3646 - accuracy: 0.8066 - val_loss: 31.3444 - val_accuracy: 0.7347\n",
      "Epoch 22/100\n",
      "8/8 [==============================] - 1s 150ms/step - loss: 19.5209 - accuracy: 0.7889 - val_loss: 27.8248 - val_accuracy: 0.7347\n",
      "Epoch 23/100\n",
      "8/8 [==============================] - 1s 150ms/step - loss: 21.7812 - accuracy: 0.8040 - val_loss: 26.5615 - val_accuracy: 0.7245\n",
      "Epoch 24/100\n",
      "8/8 [==============================] - 1s 152ms/step - loss: 15.6308 - accuracy: 0.8154 - val_loss: 14.2003 - val_accuracy: 0.8061\n",
      "Epoch 25/100\n",
      "8/8 [==============================] - 1s 151ms/step - loss: 16.8057 - accuracy: 0.7939 - val_loss: 17.3700 - val_accuracy: 0.7857\n",
      "Epoch 26/100\n",
      "8/8 [==============================] - 1s 153ms/step - loss: 15.7854 - accuracy: 0.7977 - val_loss: 21.3314 - val_accuracy: 0.7449\n",
      "Epoch 27/100\n",
      "8/8 [==============================] - 1s 149ms/step - loss: 12.2627 - accuracy: 0.8028 - val_loss: 22.2946 - val_accuracy: 0.7449\n",
      "Epoch 28/100\n",
      "8/8 [==============================] - 1s 154ms/step - loss: 9.8114 - accuracy: 0.8268 - val_loss: 11.2730 - val_accuracy: 0.7653\n",
      "Epoch 29/100\n",
      "8/8 [==============================] - 1s 150ms/step - loss: 8.2124 - accuracy: 0.8331 - val_loss: 8.8652 - val_accuracy: 0.7449\n",
      "Epoch 30/100\n",
      "8/8 [==============================] - 1s 153ms/step - loss: 6.6435 - accuracy: 0.8369 - val_loss: 12.8524 - val_accuracy: 0.8061\n",
      "Epoch 31/100\n",
      "8/8 [==============================] - 1s 148ms/step - loss: 7.9049 - accuracy: 0.8357 - val_loss: 15.0384 - val_accuracy: 0.7551\n",
      "Epoch 32/100\n",
      "8/8 [==============================] - 1s 150ms/step - loss: 7.3409 - accuracy: 0.8445 - val_loss: 10.7906 - val_accuracy: 0.8061\n",
      "Epoch 33/100\n",
      "8/8 [==============================] - 1s 160ms/step - loss: 6.3307 - accuracy: 0.8609 - val_loss: 15.4013 - val_accuracy: 0.7551\n",
      "Epoch 34/100\n",
      "8/8 [==============================] - 1s 153ms/step - loss: 5.0443 - accuracy: 0.8559 - val_loss: 5.8879 - val_accuracy: 0.8571\n",
      "Epoch 35/100\n",
      "8/8 [==============================] - 1s 154ms/step - loss: 5.1175 - accuracy: 0.8483 - val_loss: 9.8968 - val_accuracy: 0.7653\n",
      "Epoch 36/100\n",
      "8/8 [==============================] - 1s 153ms/step - loss: 5.6260 - accuracy: 0.8394 - val_loss: 5.4685 - val_accuracy: 0.8469\n",
      "Epoch 37/100\n",
      "8/8 [==============================] - 1s 151ms/step - loss: 5.1326 - accuracy: 0.8432 - val_loss: 5.2468 - val_accuracy: 0.8265\n",
      "Epoch 38/100\n",
      "8/8 [==============================] - 1s 153ms/step - loss: 4.4664 - accuracy: 0.8584 - val_loss: 7.9410 - val_accuracy: 0.7857\n",
      "Epoch 39/100\n",
      "8/8 [==============================] - 1s 151ms/step - loss: 5.2819 - accuracy: 0.8483 - val_loss: 8.9733 - val_accuracy: 0.7653\n",
      "Epoch 40/100\n",
      "8/8 [==============================] - 1s 149ms/step - loss: 4.7857 - accuracy: 0.8243 - val_loss: 7.1187 - val_accuracy: 0.7959\n",
      "Epoch 41/100\n",
      "8/8 [==============================] - 1s 149ms/step - loss: 4.1080 - accuracy: 0.8546 - val_loss: 4.9261 - val_accuracy: 0.8776\n",
      "Epoch 42/100\n",
      "8/8 [==============================] - 1s 150ms/step - loss: 3.5696 - accuracy: 0.8660 - val_loss: 5.7139 - val_accuracy: 0.8061\n",
      "Epoch 43/100\n",
      "8/8 [==============================] - 1s 153ms/step - loss: 3.2178 - accuracy: 0.8698 - val_loss: 6.0315 - val_accuracy: 0.7755\n",
      "Epoch 44/100\n",
      "8/8 [==============================] - 1s 154ms/step - loss: 3.6405 - accuracy: 0.8597 - val_loss: 7.3193 - val_accuracy: 0.7959\n",
      "Epoch 45/100\n",
      "8/8 [==============================] - 1s 153ms/step - loss: 3.5449 - accuracy: 0.8647 - val_loss: 5.9526 - val_accuracy: 0.8367\n",
      "Epoch 46/100\n",
      "8/8 [==============================] - 1s 154ms/step - loss: 3.3302 - accuracy: 0.8723 - val_loss: 6.5687 - val_accuracy: 0.7857\n",
      "Epoch 47/100\n",
      "8/8 [==============================] - 1s 151ms/step - loss: 3.2884 - accuracy: 0.8774 - val_loss: 5.8003 - val_accuracy: 0.8061\n",
      "Epoch 48/100\n",
      "8/8 [==============================] - 1s 151ms/step - loss: 2.9547 - accuracy: 0.8963 - val_loss: 4.6243 - val_accuracy: 0.8571\n",
      "Epoch 49/100\n",
      "8/8 [==============================] - 1s 150ms/step - loss: 3.0503 - accuracy: 0.8989 - val_loss: 3.8100 - val_accuracy: 0.8367\n",
      "Epoch 50/100\n",
      "8/8 [==============================] - 1s 152ms/step - loss: 3.2489 - accuracy: 0.8774 - val_loss: 5.4081 - val_accuracy: 0.8061\n",
      "Epoch 51/100\n",
      "8/8 [==============================] - 1s 153ms/step - loss: 3.0584 - accuracy: 0.8710 - val_loss: 6.5695 - val_accuracy: 0.8265\n",
      "Epoch 52/100\n",
      "8/8 [==============================] - 1s 152ms/step - loss: 2.3913 - accuracy: 0.8875 - val_loss: 3.3928 - val_accuracy: 0.8776\n",
      "Epoch 53/100\n",
      "8/8 [==============================] - 1s 150ms/step - loss: 2.3446 - accuracy: 0.9039 - val_loss: 4.0802 - val_accuracy: 0.8367\n",
      "Epoch 54/100\n",
      "8/8 [==============================] - 1s 150ms/step - loss: 2.9309 - accuracy: 0.8698 - val_loss: 5.8903 - val_accuracy: 0.8469\n",
      "Epoch 55/100\n",
      "8/8 [==============================] - 1s 149ms/step - loss: 2.8835 - accuracy: 0.8875 - val_loss: 3.3661 - val_accuracy: 0.8776\n",
      "Epoch 56/100\n",
      "8/8 [==============================] - 1s 152ms/step - loss: 2.5524 - accuracy: 0.8976 - val_loss: 7.6010 - val_accuracy: 0.7857\n",
      "Epoch 57/100\n",
      "8/8 [==============================] - 1s 152ms/step - loss: 2.4494 - accuracy: 0.8875 - val_loss: 7.3727 - val_accuracy: 0.7959\n",
      "Epoch 58/100\n",
      "8/8 [==============================] - 1s 150ms/step - loss: 2.8862 - accuracy: 0.9027 - val_loss: 6.6716 - val_accuracy: 0.8163\n",
      "Epoch 59/100\n",
      "8/8 [==============================] - 1s 153ms/step - loss: 2.4432 - accuracy: 0.9014 - val_loss: 6.8840 - val_accuracy: 0.8571\n",
      "Epoch 60/100\n",
      "8/8 [==============================] - 1s 150ms/step - loss: 2.8874 - accuracy: 0.9064 - val_loss: 8.0973 - val_accuracy: 0.7755\n",
      "Epoch 61/100\n",
      "8/8 [==============================] - 1s 151ms/step - loss: 2.2565 - accuracy: 0.9216 - val_loss: 7.6821 - val_accuracy: 0.7959\n",
      "Epoch 62/100\n",
      "8/8 [==============================] - 1s 152ms/step - loss: 3.2745 - accuracy: 0.8976 - val_loss: 5.4699 - val_accuracy: 0.8163\n",
      "Epoch 63/100\n",
      "8/8 [==============================] - 1s 150ms/step - loss: 3.6660 - accuracy: 0.8862 - val_loss: 6.4148 - val_accuracy: 0.8265\n",
      "Epoch 64/100\n",
      "8/8 [==============================] - 1s 149ms/step - loss: 2.6708 - accuracy: 0.9052 - val_loss: 5.0801 - val_accuracy: 0.8469\n",
      "Epoch 65/100\n",
      "8/8 [==============================] - 1s 149ms/step - loss: 2.2422 - accuracy: 0.9039 - val_loss: 6.9084 - val_accuracy: 0.8265\n",
      "Epoch 66/100\n",
      "8/8 [==============================] - 1s 150ms/step - loss: 2.1135 - accuracy: 0.9204 - val_loss: 9.2616 - val_accuracy: 0.8163\n",
      "Epoch 67/100\n",
      "8/8 [==============================] - 1s 148ms/step - loss: 3.3669 - accuracy: 0.8951 - val_loss: 7.7017 - val_accuracy: 0.7959\n",
      "Epoch 68/100\n",
      "8/8 [==============================] - 1s 153ms/step - loss: 3.0019 - accuracy: 0.9090 - val_loss: 7.8019 - val_accuracy: 0.7755\n",
      "Epoch 69/100\n",
      "8/8 [==============================] - 1s 149ms/step - loss: 2.7744 - accuracy: 0.9064 - val_loss: 4.8537 - val_accuracy: 0.8367\n",
      "Epoch 70/100\n",
      "8/8 [==============================] - 1s 155ms/step - loss: 2.9546 - accuracy: 0.8963 - val_loss: 5.0295 - val_accuracy: 0.8878\n",
      "Epoch 71/100\n",
      "8/8 [==============================] - 1s 153ms/step - loss: 1.9105 - accuracy: 0.9166 - val_loss: 7.0797 - val_accuracy: 0.8163\n",
      "Epoch 72/100\n",
      "8/8 [==============================] - 1s 151ms/step - loss: 1.7641 - accuracy: 0.9254 - val_loss: 9.0089 - val_accuracy: 0.8163\n",
      "Epoch 73/100\n",
      "8/8 [==============================] - 1s 150ms/step - loss: 1.6845 - accuracy: 0.9279 - val_loss: 5.5900 - val_accuracy: 0.8673\n",
      "Epoch 74/100\n",
      "8/8 [==============================] - 1s 150ms/step - loss: 2.3910 - accuracy: 0.9292 - val_loss: 5.3371 - val_accuracy: 0.8878\n",
      "Epoch 75/100\n",
      "8/8 [==============================] - 1s 152ms/step - loss: 2.5677 - accuracy: 0.9254 - val_loss: 6.9714 - val_accuracy: 0.8469\n",
      "Epoch 76/100\n",
      "8/8 [==============================] - 1s 149ms/step - loss: 2.4014 - accuracy: 0.9229 - val_loss: 4.7831 - val_accuracy: 0.8367\n",
      "Epoch 77/100\n",
      "8/8 [==============================] - 1s 149ms/step - loss: 2.4821 - accuracy: 0.9178 - val_loss: 3.9324 - val_accuracy: 0.8265\n",
      "Epoch 78/100\n",
      "8/8 [==============================] - 1s 152ms/step - loss: 2.2846 - accuracy: 0.9153 - val_loss: 5.4783 - val_accuracy: 0.8673\n",
      "Epoch 79/100\n",
      "8/8 [==============================] - 1s 152ms/step - loss: 1.8027 - accuracy: 0.9406 - val_loss: 8.2768 - val_accuracy: 0.7959\n",
      "Epoch 80/100\n",
      "8/8 [==============================] - 1s 151ms/step - loss: 2.1345 - accuracy: 0.9128 - val_loss: 7.9182 - val_accuracy: 0.7959\n",
      "Epoch 81/100\n",
      "8/8 [==============================] - 1s 149ms/step - loss: 2.4012 - accuracy: 0.9153 - val_loss: 4.7443 - val_accuracy: 0.8673\n",
      "Epoch 82/100\n",
      "8/8 [==============================] - 1s 154ms/step - loss: 1.9545 - accuracy: 0.9229 - val_loss: 5.0994 - val_accuracy: 0.8571\n",
      "Epoch 83/100\n",
      "8/8 [==============================] - 1s 149ms/step - loss: 1.4725 - accuracy: 0.9456 - val_loss: 5.3731 - val_accuracy: 0.8571\n",
      "Epoch 84/100\n",
      "8/8 [==============================] - 1s 152ms/step - loss: 2.1970 - accuracy: 0.9241 - val_loss: 6.1008 - val_accuracy: 0.8265\n",
      "Epoch 85/100\n",
      "8/8 [==============================] - 1s 150ms/step - loss: 1.7052 - accuracy: 0.9317 - val_loss: 4.4146 - val_accuracy: 0.8980\n",
      "Epoch 86/100\n",
      "8/8 [==============================] - 1s 152ms/step - loss: 1.9818 - accuracy: 0.9418 - val_loss: 6.0320 - val_accuracy: 0.8878\n",
      "Epoch 87/100\n",
      "8/8 [==============================] - 1s 150ms/step - loss: 1.4880 - accuracy: 0.9444 - val_loss: 5.8433 - val_accuracy: 0.8776\n",
      "Epoch 88/100\n",
      "8/8 [==============================] - 1s 151ms/step - loss: 1.6383 - accuracy: 0.9482 - val_loss: 6.6970 - val_accuracy: 0.8469\n",
      "Epoch 89/100\n",
      "8/8 [==============================] - 1s 151ms/step - loss: 1.8111 - accuracy: 0.9330 - val_loss: 5.2076 - val_accuracy: 0.8571\n",
      "Epoch 90/100\n",
      "8/8 [==============================] - 1s 152ms/step - loss: 2.7321 - accuracy: 0.9102 - val_loss: 4.5651 - val_accuracy: 0.8980\n",
      "Epoch 91/100\n",
      "8/8 [==============================] - 1s 152ms/step - loss: 2.1727 - accuracy: 0.9317 - val_loss: 5.6807 - val_accuracy: 0.8469\n",
      "Epoch 92/100\n",
      "8/8 [==============================] - 1s 152ms/step - loss: 2.2424 - accuracy: 0.9267 - val_loss: 3.5178 - val_accuracy: 0.8878\n",
      "Epoch 93/100\n",
      "8/8 [==============================] - 1s 150ms/step - loss: 1.3840 - accuracy: 0.9482 - val_loss: 6.7445 - val_accuracy: 0.8571\n",
      "Epoch 94/100\n",
      "8/8 [==============================] - 1s 150ms/step - loss: 1.2151 - accuracy: 0.9646 - val_loss: 2.8283 - val_accuracy: 0.8776\n",
      "Epoch 95/100\n",
      "8/8 [==============================] - 1s 152ms/step - loss: 1.6686 - accuracy: 0.9406 - val_loss: 8.4340 - val_accuracy: 0.8265\n",
      "Epoch 96/100\n",
      "8/8 [==============================] - 1s 155ms/step - loss: 1.4001 - accuracy: 0.9444 - val_loss: 4.2868 - val_accuracy: 0.8469\n",
      "Epoch 97/100\n",
      "8/8 [==============================] - 1s 160ms/step - loss: 1.4683 - accuracy: 0.9431 - val_loss: 3.7327 - val_accuracy: 0.8776\n",
      "Epoch 98/100\n",
      "8/8 [==============================] - 1s 156ms/step - loss: 1.3415 - accuracy: 0.9456 - val_loss: 4.3563 - val_accuracy: 0.9184\n",
      "Epoch 99/100\n",
      "8/8 [==============================] - 1s 151ms/step - loss: 1.5493 - accuracy: 0.9570 - val_loss: 7.3267 - val_accuracy: 0.8469\n",
      "Epoch 100/100\n",
      "8/8 [==============================] - 1s 149ms/step - loss: 1.5481 - accuracy: 0.9520 - val_loss: 3.5046 - val_accuracy: 0.8776\n"
     ]
    }
   ],
   "source": [
    "history = model.fit(training_ds, validation_data = validation_ds, epochs = 100)"
   ],
   "metadata": {
    "collapsed": false,
    "ExecuteTime": {
     "end_time": "2023-07-23T06:22:43.780382100Z",
     "start_time": "2023-07-23T06:20:33.353340400Z"
    }
   }
  },
  {
   "cell_type": "code",
   "execution_count": 10,
   "outputs": [
    {
     "data": {
      "text/plain": "<matplotlib.legend.Legend at 0x7f83d2fb8040>"
     },
     "execution_count": 10,
     "metadata": {},
     "output_type": "execute_result"
    },
    {
     "data": {
      "text/plain": "<Figure size 640x480 with 1 Axes>",
      "image/png": "[encoded data removed]"
     },
     "metadata": {},
     "output_type": "display_data"
    }
   ],
   "source": [
    "# plt.plot(history.history['loss'], label = 'training loss')\n",
    "plt.plot(history.history['val_accuracy'], label = 'validation accuracy')\n",
    "#epochs\n",
    "plt.xlabel('Epochs')\n",
    "plt.title('Validation Accuracy SNN')\n",
    "plt.grid(True)\n",
    "plt.legend()"
   ],
   "metadata": {
    "collapsed": false,
    "ExecuteTime": {
     "end_time": "2023-07-23T06:24:17.392660700Z",
     "start_time": "2023-07-23T06:24:16.822201300Z"
    }
   }
  },
  {
   "cell_type": "code",
   "execution_count": 9,
   "outputs": [
    {
     "name": "stdout",
     "output_type": "stream",
     "text": [
      "1/1 [==============================] - 0s 241ms/step - loss: 7.2096 - accuracy: 0.8400\n"
     ]
    },
    {
     "data": {
      "text/plain": "[7.209586143493652, 0.8399999737739563]"
     },
     "execution_count": 9,
     "metadata": {},
     "output_type": "execute_result"
    }
   ],
   "source": [
    "# final accuracy on test set\n",
    "model.evaluate(testing_ds)"
   ],
   "metadata": {
    "collapsed": false,
    "ExecuteTime": {
     "end_time": "2023-07-23T06:22:59.086573800Z",
     "start_time": "2023-07-23T06:22:58.742981900Z"
    }
   }
  }
 ],
 "metadata": {
  "kernelspec": {
   "name": "accident_detection",
   "language": "python",
   "display_name": "Accident_detection"
  },
  "language_info": {
   "codemirror_mode": {
    "name": "ipython",
    "version": 2
   },
   "file_extension": ".py",
   "mimetype": "text/x-python",
   "name": "python",
   "nbconvert_exporter": "python",
   "pygments_lexer": "ipython2",
   "version": "2.7.6"
  }
 },
 "nbformat": 4,
 "nbformat_minor": 0
}
