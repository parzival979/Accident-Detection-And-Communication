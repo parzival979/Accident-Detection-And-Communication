{
 "cells": [
  {
   "cell_type": "code",
   "execution_count": 1,
   "metadata": {
    "collapsed": true,
    "ExecuteTime": {
     "end_time": "2023-07-25T15:40:40.752354600Z",
     "start_time": "2023-07-25T15:40:36.587908Z"
    }
   },
   "outputs": [
    {
     "name": "stderr",
     "output_type": "stream",
     "text": [
      "2023-07-25 21:10:36.598591: I tensorflow/core/platform/cpu_feature_guard.cc:193] This TensorFlow binary is optimized with oneAPI Deep Neural Network Library (oneDNN) to use the following CPU instructions in performance-critical operations:  AVX2 FMA\n",
      "To enable them in other operations, rebuild TensorFlow with the appropriate compiler flags.\n",
      "2023-07-25 21:10:37.666971: W tensorflow/compiler/xla/stream_executor/platform/default/dso_loader.cc:64] Could not load dynamic library 'libnvinfer.so.7'; dlerror: libnvinfer.so.7: cannot open shared object file: No such file or directory; LD_LIBRARY_PATH: /home/student1/openssl/lib:\n",
      "2023-07-25 21:10:37.667081: W tensorflow/compiler/xla/stream_executor/platform/default/dso_loader.cc:64] Could not load dynamic library 'libnvinfer_plugin.so.7'; dlerror: libnvinfer_plugin.so.7: cannot open shared object file: No such file or directory; LD_LIBRARY_PATH: /home/student1/openssl/lib:\n",
      "2023-07-25 21:10:37.667094: W tensorflow/compiler/tf2tensorrt/utils/py_utils.cc:38] TF-TRT Warning: Cannot dlopen some TensorRT libraries. If you would like to use Nvidia GPU with TensorRT, please make sure the missing libraries mentioned above are installed properly.\n"
     ]
    }
   ],
   "source": [
    "import keras\n",
    "import numpy as np\n",
    "import pandas as pd\n",
    "import matplotlib.pyplot as plt\n",
    "import tensorflow as tf\n",
    "from keras import layers"
   ]
  },
  {
   "cell_type": "code",
   "execution_count": 2,
   "outputs": [],
   "source": [
    "batch_size = 100\n",
    "img_height = 250\n",
    "img_width = 250"
   ],
   "metadata": {
    "collapsed": false,
    "ExecuteTime": {
     "end_time": "2023-07-25T15:40:43.010308600Z",
     "start_time": "2023-07-25T15:40:42.945739500Z"
    }
   }
  },
  {
   "cell_type": "code",
   "execution_count": 3,
   "outputs": [
    {
     "name": "stdout",
     "output_type": "stream",
     "text": [
      "Found 791 files belonging to 2 classes.\n",
      "Found 100 files belonging to 2 classes.\n",
      "Found 98 files belonging to 2 classes.\n"
     ]
    },
    {
     "name": "stderr",
     "output_type": "stream",
     "text": [
      "2023-07-25 21:10:47.814730: I tensorflow/core/platform/cpu_feature_guard.cc:193] This TensorFlow binary is optimized with oneAPI Deep Neural Network Library (oneDNN) to use the following CPU instructions in performance-critical operations:  AVX2 FMA\n",
      "To enable them in other operations, rebuild TensorFlow with the appropriate compiler flags.\n",
      "2023-07-25 21:10:48.533639: I tensorflow/core/common_runtime/gpu/gpu_device.cc:1613] Created device /job:localhost/replica:0/task:0/device:GPU:0 with 10405 MB memory:  -> device: 0, name: NVIDIA GeForce GTX 1080 Ti, pci bus id: 0000:89:00.0, compute capability: 6.1\n"
     ]
    }
   ],
   "source": [
    "training_ds = tf.keras.preprocessing.image_dataset_from_directory(\n",
    "    'data/train',\n",
    "    seed=101,\n",
    "    image_size= (img_height, img_width),\n",
    "    batch_size=batch_size\n",
    "\n",
    ")\n",
    "\n",
    "testing_ds = tf.keras.preprocessing.image_dataset_from_directory(\n",
    "    'data/test',\n",
    "    seed=101,\n",
    "    image_size= (img_height, img_width),\n",
    "    batch_size=batch_size)\n",
    "\n",
    "validation_ds =  tf.keras.preprocessing.image_dataset_from_directory(\n",
    "    'data/val',\n",
    "    seed=101,\n",
    "    image_size= (img_height, img_width),\n",
    "    batch_size=batch_size)"
   ],
   "metadata": {
    "collapsed": false,
    "ExecuteTime": {
     "end_time": "2023-07-25T15:40:48.802260700Z",
     "start_time": "2023-07-25T15:40:44.152634800Z"
    }
   }
  },
  {
   "cell_type": "code",
   "execution_count": 4,
   "outputs": [],
   "source": [
    "class_names = training_ds.class_names\n",
    "\n",
    "## Configuring dataset for performance\n",
    "AUTOTUNE = tf.data.experimental.AUTOTUNE\n",
    "training_ds = training_ds.cache().prefetch(buffer_size=AUTOTUNE)\n",
    "testing_ds = testing_ds.cache().prefetch(buffer_size=AUTOTUNE)"
   ],
   "metadata": {
    "collapsed": false,
    "ExecuteTime": {
     "end_time": "2023-07-25T15:42:18.909504900Z",
     "start_time": "2023-07-25T15:42:18.604450700Z"
    }
   }
  },
  {
   "cell_type": "code",
   "execution_count": 5,
   "outputs": [
    {
     "name": "stdout",
     "output_type": "stream",
     "text": [
      "WARNING:tensorflow:`input_shape` is undefined or non-square, or `rows` is not in [96, 128, 160, 192, 224]. Weights for input shape (224, 224) will be loaded as the default.\n"
     ]
    },
    {
     "name": "stderr",
     "output_type": "stream",
     "text": [
      "2023-07-25 21:12:23.498741: I tensorflow/core/util/cuda_solvers.cc:179] Creating GpuSolver handles for stream 0x1a5ac580\n"
     ]
    }
   ],
   "source": [
    "import keras_lmu\n",
    "import tensorflow as tf\n",
    "from keras import layers\n",
    "\n",
    "img_shape = (img_height, img_width, 3)\n",
    "\n",
    "base_model = tf.keras.applications.MobileNetV2(input_shape=img_shape,\n",
    "                                               include_top=False,\n",
    "                                               weights='imagenet')\n",
    "\n",
    "base_model.trainable = False\n",
    "\n",
    "# LMU layer\n",
    "lmu_layer = keras_lmu.LMU(\n",
    "    memory_d=1,\n",
    "    order=256,\n",
    "    theta=784,\n",
    "    hidden_cell=tf.keras.layers.SimpleRNNCell(units=128),\n",
    "    trainable_theta=True,\n",
    "    return_sequences=False,  # Only return the last output in the output sequence\n",
    ")\n",
    "\n",
    "model = tf.keras.Sequential([\n",
    "    base_model,\n",
    "    layers.Conv2D(32, 3, activation='relu'),\n",
    "    layers.Conv2D(64, 3, activation='relu'),\n",
    "    layers.Conv2D(128, 3, activation='relu'),\n",
    "    layers.Reshape((-1, 128)),  # reshape for LMU\n",
    "    lmu_layer,  # LMU replaces Flatten\n",
    "    layers.Dense(len(class_names), activation= 'softmax')  # final classification layer\n",
    "])"
   ],
   "metadata": {
    "collapsed": false,
    "ExecuteTime": {
     "end_time": "2023-07-25T15:42:24.553941200Z",
     "start_time": "2023-07-25T15:42:21.152751Z"
    }
   }
  },
  {
   "cell_type": "code",
   "execution_count": 6,
   "outputs": [],
   "source": [
    "model.compile(optimizer='adam',loss='sparse_categorical_crossentropy', metrics=['accuracy'])"
   ],
   "metadata": {
    "collapsed": false,
    "ExecuteTime": {
     "end_time": "2023-07-25T15:42:26.590168500Z",
     "start_time": "2023-07-25T15:42:26.525392300Z"
    }
   }
  },
  {
   "cell_type": "code",
   "execution_count": 7,
   "outputs": [
    {
     "name": "stdout",
     "output_type": "stream",
     "text": [
      "Epoch 1/10\n"
     ]
    },
    {
     "name": "stderr",
     "output_type": "stream",
     "text": [
      "2023-07-25 21:12:43.740440: I tensorflow/compiler/xla/stream_executor/cuda/cuda_dnn.cc:428] Loaded cuDNN version 8200\n",
      "2023-07-25 21:12:44.887244: I tensorflow/compiler/xla/service/service.cc:173] XLA service 0x7fe75001b850 initialized for platform CUDA (this does not guarantee that XLA will be used). Devices:\n",
      "2023-07-25 21:12:44.887309: I tensorflow/compiler/xla/service/service.cc:181]   StreamExecutor device (0): NVIDIA GeForce GTX 1080 Ti, Compute Capability 6.1\n",
      "2023-07-25 21:12:44.899774: I tensorflow/compiler/mlir/tensorflow/utils/dump_mlir_util.cc:268] disabling MLIR crash reproducer, set env var `MLIR_CRASH_REPRODUCER_DIRECTORY` to enable.\n",
      "2023-07-25 21:12:45.274871: I tensorflow/compiler/jit/xla_compilation_cache.cc:477] Compiled cluster using XLA!  This line is logged at most once for the lifetime of the process.\n"
     ]
    },
    {
     "name": "stdout",
     "output_type": "stream",
     "text": [
      "8/8 [==============================] - 15s 484ms/step - loss: 0.6746 - accuracy: 0.5601 - val_loss: 0.5666 - val_accuracy: 0.6939\n",
      "Epoch 2/10\n",
      "8/8 [==============================] - 1s 171ms/step - loss: 0.6137 - accuracy: 0.6612 - val_loss: 0.4762 - val_accuracy: 0.8367\n",
      "Epoch 3/10\n",
      "8/8 [==============================] - 1s 172ms/step - loss: 0.3501 - accuracy: 0.8319 - val_loss: 0.5033 - val_accuracy: 0.7551\n",
      "Epoch 4/10\n",
      "8/8 [==============================] - 1s 171ms/step - loss: 0.1825 - accuracy: 0.9330 - val_loss: 0.1600 - val_accuracy: 0.9388\n",
      "Epoch 5/10\n",
      "8/8 [==============================] - 1s 171ms/step - loss: 0.0843 - accuracy: 0.9659 - val_loss: 0.3153 - val_accuracy: 0.8776\n",
      "Epoch 6/10\n",
      "8/8 [==============================] - 1s 172ms/step - loss: 0.0728 - accuracy: 0.9798 - val_loss: 0.1726 - val_accuracy: 0.9082\n",
      "Epoch 7/10\n",
      "8/8 [==============================] - 1s 172ms/step - loss: 0.0689 - accuracy: 0.9836 - val_loss: 0.2084 - val_accuracy: 0.9388\n",
      "Epoch 8/10\n",
      "8/8 [==============================] - 1s 171ms/step - loss: 0.0481 - accuracy: 0.9861 - val_loss: 0.3287 - val_accuracy: 0.8980\n",
      "Epoch 9/10\n",
      "8/8 [==============================] - 1s 170ms/step - loss: 0.0468 - accuracy: 0.9886 - val_loss: 0.2432 - val_accuracy: 0.9184\n",
      "Epoch 10/10\n",
      "8/8 [==============================] - 1s 171ms/step - loss: 0.0577 - accuracy: 0.9848 - val_loss: 0.3073 - val_accuracy: 0.9286\n"
     ]
    }
   ],
   "source": [
    "history = model.fit(training_ds, validation_data = validation_ds, epochs = 10)"
   ],
   "metadata": {
    "collapsed": false,
    "ExecuteTime": {
     "end_time": "2023-07-25T15:43:03.415730400Z",
     "start_time": "2023-07-25T15:42:36.465126400Z"
    }
   }
  },
  {
   "cell_type": "code",
   "execution_count": 8,
   "outputs": [
    {
     "data": {
      "text/plain": "<matplotlib.legend.Legend at 0x7fe8b46dab50>"
     },
     "execution_count": 8,
     "metadata": {},
     "output_type": "execute_result"
    },
    {
     "data": {
      "text/plain": "<Figure size 640x480 with 1 Axes>",
      "image/png": "[encoded data removed]"
     },
     "metadata": {},
     "output_type": "display_data"
    }
   ],
   "source": [
    "plt.plot(history.history['loss'], label = 'training loss')\n",
    "plt.plot(history.history['accuracy'], label = 'training accuracy')\n",
    "plt.grid(True)\n",
    "plt.legend()"
   ],
   "metadata": {
    "collapsed": false,
    "ExecuteTime": {
     "end_time": "2023-07-25T15:43:23.328180Z",
     "start_time": "2023-07-25T15:43:22.730865300Z"
    }
   }
  },
  {
   "cell_type": "code",
   "execution_count": 9,
   "outputs": [
    {
     "name": "stdout",
     "output_type": "stream",
     "text": [
      "1/1 [==============================] - 0s 250ms/step - loss: 0.3015 - accuracy: 0.9300\n"
     ]
    },
    {
     "data": {
      "text/plain": "[0.30151623487472534, 0.9300000071525574]"
     },
     "execution_count": 9,
     "metadata": {},
     "output_type": "execute_result"
    }
   ],
   "source": [
    "# final accuracy on test set\n",
    "model.evaluate(testing_ds)"
   ],
   "metadata": {
    "collapsed": false,
    "ExecuteTime": {
     "end_time": "2023-07-25T15:43:31.508266Z",
     "start_time": "2023-07-25T15:43:31.172464800Z"
    }
   }
  }
 ],
 "metadata": {
  "kernelspec": {
   "name": "accident_detection",
   "language": "python",
   "display_name": "Accident_detection"
  },
  "language_info": {
   "codemirror_mode": {
    "name": "ipython",
    "version": 2
   },
   "file_extension": ".py",
   "mimetype": "text/x-python",
   "name": "python",
   "nbconvert_exporter": "python",
   "pygments_lexer": "ipython2",
   "version": "2.7.6"
  }
 },
 "nbformat": 4,
 "nbformat_minor": 0
}
