{
 "cells": [
  {
   "cell_type": "code",
   "execution_count": 1,
   "id": "839b8e3f",
   "metadata": {
    "_cell_guid": "b1076dfc-b9ad-4769-8c92-a6c4dae69d19",
    "_uuid": "8f2839f25d086af736a60e9eeb907d3b93b6e0e5",
    "execution": {
     "iopub.execute_input": "2023-02-17T16:15:44.273074Z",
     "iopub.status.busy": "2023-02-17T16:15:44.271882Z",
     "iopub.status.idle": "2023-02-17T16:15:50.621402Z",
     "shell.execute_reply": "2023-02-17T16:15:50.620399Z"
    },
    "papermill": {
     "duration": 6.362123,
     "end_time": "2023-02-17T16:15:50.623956",
     "exception": false,
     "start_time": "2023-02-17T16:15:44.261833",
     "status": "completed"
    },
    "tags": [],
    "ExecuteTime": {
     "end_time": "2023-07-22T18:31:18.101526100Z",
     "start_time": "2023-07-22T18:31:15.387513300Z"
    }
   },
   "outputs": [
    {
     "name": "stderr",
     "output_type": "stream",
     "text": [
      "2023-07-23 00:01:16.229194: I tensorflow/core/platform/cpu_feature_guard.cc:193] This TensorFlow binary is optimized with oneAPI Deep Neural Network Library (oneDNN) to use the following CPU instructions in performance-critical operations:  AVX2 FMA\n",
      "To enable them in other operations, rebuild TensorFlow with the appropriate compiler flags.\n",
      "2023-07-23 00:01:17.279311: W tensorflow/compiler/xla/stream_executor/platform/default/dso_loader.cc:64] Could not load dynamic library 'libnvinfer.so.7'; dlerror: libnvinfer.so.7: cannot open shared object file: No such file or directory; LD_LIBRARY_PATH: /home/student1/miniconda3/envs/Accident_detection/lib/python3.9/site-packages/cv2/../../lib64:/home/student1/openssl/lib:\n",
      "2023-07-23 00:01:17.279448: W tensorflow/compiler/xla/stream_executor/platform/default/dso_loader.cc:64] Could not load dynamic library 'libnvinfer_plugin.so.7'; dlerror: libnvinfer_plugin.so.7: cannot open shared object file: No such file or directory; LD_LIBRARY_PATH: /home/student1/miniconda3/envs/Accident_detection/lib/python3.9/site-packages/cv2/../../lib64:/home/student1/openssl/lib:\n",
      "2023-07-23 00:01:17.279466: W tensorflow/compiler/tf2tensorrt/utils/py_utils.cc:38] TF-TRT Warning: Cannot dlopen some TensorRT libraries. If you would like to use Nvidia GPU with TensorRT, please make sure the missing libraries mentioned above are installed properly.\n"
     ]
    }
   ],
   "source": [
    "import cv2\n",
    "import numpy as np\n",
    "import pandas as pd\n",
    "import matplotlib.pyplot as plt\n",
    "import tensorflow as tf\n",
    "from keras import layers"
   ]
  },
  {
   "cell_type": "code",
   "execution_count": 2,
   "id": "5af1f987",
   "metadata": {
    "execution": {
     "iopub.execute_input": "2023-02-17T16:15:50.654149Z",
     "iopub.status.busy": "2023-02-17T16:15:50.652944Z",
     "iopub.status.idle": "2023-02-17T16:15:50.658491Z",
     "shell.execute_reply": "2023-02-17T16:15:50.657645Z"
    },
    "papermill": {
     "duration": 0.015356,
     "end_time": "2023-02-17T16:15:50.660443",
     "exception": false,
     "start_time": "2023-02-17T16:15:50.645087",
     "status": "completed"
    },
    "tags": [],
    "ExecuteTime": {
     "end_time": "2023-07-22T18:31:19.761146600Z",
     "start_time": "2023-07-22T18:31:19.750018400Z"
    }
   },
   "outputs": [],
   "source": [
    "batch_size = 100\n",
    "img_height = 250\n",
    "img_width = 250"
   ]
  },
  {
   "cell_type": "code",
   "execution_count": 3,
   "id": "0cc3cfb2",
   "metadata": {
    "execution": {
     "iopub.execute_input": "2023-02-17T16:15:50.690385Z",
     "iopub.status.busy": "2023-02-17T16:15:50.688895Z",
     "iopub.status.idle": "2023-02-17T16:15:53.883848Z",
     "shell.execute_reply": "2023-02-17T16:15:53.882235Z"
    },
    "papermill": {
     "duration": 3.205624,
     "end_time": "2023-02-17T16:15:53.886831",
     "exception": false,
     "start_time": "2023-02-17T16:15:50.681207",
     "status": "completed"
    },
    "tags": [],
    "ExecuteTime": {
     "end_time": "2023-07-22T18:31:25.830759400Z",
     "start_time": "2023-07-22T18:31:20.883164500Z"
    }
   },
   "outputs": [
    {
     "name": "stdout",
     "output_type": "stream",
     "text": [
      "Found 791 files belonging to 2 classes.\n",
      "Found 100 files belonging to 2 classes.\n",
      "Found 98 files belonging to 2 classes.\n"
     ]
    },
    {
     "name": "stderr",
     "output_type": "stream",
     "text": [
      "2023-07-23 00:01:24.854876: I tensorflow/core/platform/cpu_feature_guard.cc:193] This TensorFlow binary is optimized with oneAPI Deep Neural Network Library (oneDNN) to use the following CPU instructions in performance-critical operations:  AVX2 FMA\n",
      "To enable them in other operations, rebuild TensorFlow with the appropriate compiler flags.\n",
      "2023-07-23 00:01:25.602641: I tensorflow/core/common_runtime/gpu/gpu_device.cc:1613] Created device /job:localhost/replica:0/task:0/device:GPU:0 with 10405 MB memory:  -> device: 0, name: NVIDIA GeForce GTX 1080 Ti, pci bus id: 0000:89:00.0, compute capability: 6.1\n"
     ]
    }
   ],
   "source": [
    "training_ds = tf.keras.preprocessing.image_dataset_from_directory(\n",
    "    'data/train',\n",
    "    seed=101,\n",
    "    image_size= (img_height, img_width),\n",
    "    batch_size=batch_size\n",
    "\n",
    ")\n",
    "\n",
    "testing_ds = tf.keras.preprocessing.image_dataset_from_directory(\n",
    "    'data/test',\n",
    "    seed=101,\n",
    "    image_size= (img_height, img_width),\n",
    "    batch_size=batch_size)\n",
    "\n",
    "validation_ds =  tf.keras.preprocessing.image_dataset_from_directory(\n",
    "    'data/val',\n",
    "    seed=101,\n",
    "    image_size= (img_height, img_width),\n",
    "    batch_size=batch_size)"
   ]
  },
  {
   "cell_type": "code",
   "execution_count": 4,
   "id": "2ecd2f15",
   "metadata": {
    "execution": {
     "iopub.execute_input": "2023-02-17T16:15:53.932905Z",
     "iopub.status.busy": "2023-02-17T16:15:53.932544Z",
     "iopub.status.idle": "2023-02-17T16:15:53.940197Z",
     "shell.execute_reply": "2023-02-17T16:15:53.939327Z"
    },
    "papermill": {
     "duration": 0.022453,
     "end_time": "2023-02-17T16:15:53.942257",
     "exception": false,
     "start_time": "2023-02-17T16:15:53.919804",
     "status": "completed"
    },
    "tags": [],
    "ExecuteTime": {
     "end_time": "2023-07-22T18:31:27.340398200Z",
     "start_time": "2023-07-22T18:31:27.321662300Z"
    }
   },
   "outputs": [],
   "source": [
    "class_names = training_ds.class_names\n",
    "\n",
    "## Configuring dataset for performance\n",
    "AUTOTUNE = tf.data.experimental.AUTOTUNE\n",
    "training_ds = training_ds.cache().prefetch(buffer_size=AUTOTUNE)\n",
    "testing_ds = testing_ds.cache().prefetch(buffer_size=AUTOTUNE)"
   ]
  },
  {
   "cell_type": "code",
   "execution_count": 5,
   "id": "c57df882",
   "metadata": {
    "execution": {
     "iopub.execute_input": "2023-02-17T16:15:53.971471Z",
     "iopub.status.busy": "2023-02-17T16:15:53.971200Z",
     "iopub.status.idle": "2023-02-17T16:15:55.226286Z",
     "shell.execute_reply": "2023-02-17T16:15:55.225291Z"
    },
    "papermill": {
     "duration": 1.265556,
     "end_time": "2023-02-17T16:15:55.228850",
     "exception": false,
     "start_time": "2023-02-17T16:15:53.963294",
     "status": "completed"
    },
    "tags": [],
    "ExecuteTime": {
     "end_time": "2023-07-22T18:31:29.600200700Z",
     "start_time": "2023-07-22T18:31:28.144400100Z"
    }
   },
   "outputs": [
    {
     "name": "stdout",
     "output_type": "stream",
     "text": [
      "WARNING:tensorflow:`input_shape` is undefined or non-square, or `rows` is not in [96, 128, 160, 192, 224]. Weights for input shape (224, 224) will be loaded as the default.\n"
     ]
    }
   ],
   "source": [
    "img_shape = (img_height, img_width, 3)\n",
    "\n",
    "base_model = tf.keras.applications.MobileNetV2(input_shape=img_shape,\n",
    "                                               include_top=False,\n",
    "                                               weights='imagenet')\n",
    "\n",
    "base_model.trainable = False"
   ]
  },
  {
   "cell_type": "code",
   "execution_count": 6,
   "id": "8a00c600",
   "metadata": {
    "execution": {
     "iopub.execute_input": "2023-02-17T16:15:55.276246Z",
     "iopub.status.busy": "2023-02-17T16:15:55.275380Z",
     "iopub.status.idle": "2023-02-17T16:15:55.688900Z",
     "shell.execute_reply": "2023-02-17T16:15:55.687899Z"
    },
    "papermill": {
     "duration": 0.42489,
     "end_time": "2023-02-17T16:15:55.691490",
     "exception": false,
     "start_time": "2023-02-17T16:15:55.266600",
     "status": "completed"
    },
    "tags": [],
    "ExecuteTime": {
     "end_time": "2023-07-22T18:31:33.016530800Z",
     "start_time": "2023-07-22T18:31:32.377774700Z"
    }
   },
   "outputs": [],
   "source": [
    "model = tf.keras.Sequential([\n",
    "    base_model,\n",
    "    layers.Conv2D(32, 3, activation='relu'),\n",
    "    layers.Conv2D(64, 3, activation='relu'),\n",
    "    layers.Conv2D(128, 3, activation='relu'),\n",
    "    layers.Flatten(),\n",
    "    layers.Dense(len(class_names), activation= 'softmax')\n",
    "])"
   ]
  },
  {
   "cell_type": "code",
   "execution_count": 7,
   "id": "dc1b041e",
   "metadata": {
    "execution": {
     "iopub.execute_input": "2023-02-17T16:15:55.711139Z",
     "iopub.status.busy": "2023-02-17T16:15:55.710319Z",
     "iopub.status.idle": "2023-02-17T16:15:55.727114Z",
     "shell.execute_reply": "2023-02-17T16:15:55.726230Z"
    },
    "papermill": {
     "duration": 0.028737,
     "end_time": "2023-02-17T16:15:55.729295",
     "exception": false,
     "start_time": "2023-02-17T16:15:55.700558",
     "status": "completed"
    },
    "tags": [],
    "ExecuteTime": {
     "end_time": "2023-07-22T18:31:33.730530900Z",
     "start_time": "2023-07-22T18:31:33.531650600Z"
    }
   },
   "outputs": [],
   "source": [
    "model.compile(optimizer='adam',loss='sparse_categorical_crossentropy', metrics=['accuracy'])"
   ]
  },
  {
   "cell_type": "code",
   "execution_count": 8,
   "id": "6335078a",
   "metadata": {
    "execution": {
     "iopub.execute_input": "2023-02-17T16:15:55.760300Z",
     "iopub.status.busy": "2023-02-17T16:15:55.759494Z",
     "iopub.status.idle": "2023-02-17T16:17:48.714300Z",
     "shell.execute_reply": "2023-02-17T16:17:48.712947Z"
    },
    "papermill": {
     "duration": 112.966208,
     "end_time": "2023-02-17T16:17:48.717305",
     "exception": false,
     "start_time": "2023-02-17T16:15:55.751097",
     "status": "completed"
    },
    "tags": [],
    "ExecuteTime": {
     "end_time": "2023-07-22T18:32:00.956649600Z",
     "start_time": "2023-07-22T18:31:39.452309700Z"
    }
   },
   "outputs": [
    {
     "name": "stdout",
     "output_type": "stream",
     "text": [
      "Epoch 1/10\n"
     ]
    },
    {
     "name": "stderr",
     "output_type": "stream",
     "text": [
      "2023-07-23 00:01:43.494770: I tensorflow/compiler/xla/stream_executor/cuda/cuda_dnn.cc:428] Loaded cuDNN version 8200\n",
      "2023-07-23 00:01:45.226086: I tensorflow/compiler/xla/service/service.cc:173] XLA service 0x7f0a78a59f00 initialized for platform CUDA (this does not guarantee that XLA will be used). Devices:\n",
      "2023-07-23 00:01:45.226162: I tensorflow/compiler/xla/service/service.cc:181]   StreamExecutor device (0): NVIDIA GeForce GTX 1080 Ti, Compute Capability 6.1\n",
      "2023-07-23 00:01:45.238244: I tensorflow/compiler/mlir/tensorflow/utils/dump_mlir_util.cc:268] disabling MLIR crash reproducer, set env var `MLIR_CRASH_REPRODUCER_DIRECTORY` to enable.\n",
      "2023-07-23 00:01:45.668073: I tensorflow/compiler/jit/xla_compilation_cache.cc:477] Compiled cluster using XLA!  This line is logged at most once for the lifetime of the process.\n"
     ]
    },
    {
     "name": "stdout",
     "output_type": "stream",
     "text": [
      "8/8 [==============================] - 11s 382ms/step - loss: 0.9785 - accuracy: 0.5234 - val_loss: 0.6601 - val_accuracy: 0.6327\n",
      "Epoch 2/10\n",
      "8/8 [==============================] - 1s 147ms/step - loss: 0.6134 - accuracy: 0.6473 - val_loss: 0.5406 - val_accuracy: 0.7245\n",
      "Epoch 3/10\n",
      "8/8 [==============================] - 1s 147ms/step - loss: 0.4770 - accuracy: 0.7826 - val_loss: 0.5022 - val_accuracy: 0.7449\n",
      "Epoch 4/10\n",
      "8/8 [==============================] - 1s 147ms/step - loss: 0.3275 - accuracy: 0.8736 - val_loss: 0.4195 - val_accuracy: 0.8061\n",
      "Epoch 5/10\n",
      "8/8 [==============================] - 1s 145ms/step - loss: 0.2008 - accuracy: 0.9343 - val_loss: 0.2817 - val_accuracy: 0.8673\n",
      "Epoch 6/10\n",
      "8/8 [==============================] - 1s 146ms/step - loss: 0.1098 - accuracy: 0.9709 - val_loss: 0.2583 - val_accuracy: 0.8776\n",
      "Epoch 7/10\n",
      "8/8 [==============================] - 1s 147ms/step - loss: 0.0590 - accuracy: 0.9810 - val_loss: 0.3703 - val_accuracy: 0.8571\n",
      "Epoch 8/10\n",
      "8/8 [==============================] - 1s 152ms/step - loss: 0.0472 - accuracy: 0.9848 - val_loss: 0.5939 - val_accuracy: 0.8367\n",
      "Epoch 9/10\n",
      "8/8 [==============================] - 1s 151ms/step - loss: 0.0675 - accuracy: 0.9772 - val_loss: 0.4096 - val_accuracy: 0.8776\n",
      "Epoch 10/10\n",
      "8/8 [==============================] - 1s 150ms/step - loss: 0.1242 - accuracy: 0.9444 - val_loss: 0.2038 - val_accuracy: 0.9184\n"
     ]
    }
   ],
   "source": [
    "history = model.fit(training_ds, validation_data = validation_ds, epochs = 10)"
   ]
  },
  {
   "cell_type": "code",
   "execution_count": 9,
   "id": "77a5941a",
   "metadata": {
    "execution": {
     "iopub.execute_input": "2023-02-17T16:17:48.787323Z",
     "iopub.status.busy": "2023-02-17T16:17:48.786389Z",
     "iopub.status.idle": "2023-02-17T16:17:49.054455Z",
     "shell.execute_reply": "2023-02-17T16:17:49.053467Z"
    },
    "papermill": {
     "duration": 0.305045,
     "end_time": "2023-02-17T16:17:49.056854",
     "exception": false,
     "start_time": "2023-02-17T16:17:48.751809",
     "status": "completed"
    },
    "tags": [],
    "ExecuteTime": {
     "end_time": "2023-07-22T18:32:21.406628400Z",
     "start_time": "2023-07-22T18:32:20.810466800Z"
    }
   },
   "outputs": [
    {
     "data": {
      "text/plain": "<matplotlib.legend.Legend at 0x7f1012743490>"
     },
     "execution_count": 9,
     "metadata": {},
     "output_type": "execute_result"
    },
    {
     "data": {
      "text/plain": "<Figure size 640x480 with 1 Axes>",
      "image/png": "[encoded data removed]"
     },
     "metadata": {},
     "output_type": "display_data"
    }
   ],
   "source": [
    "plt.plot(history.history['loss'], label = 'training loss')\n",
    "plt.plot(history.history['accuracy'], label = 'training accuracy')\n",
    "plt.grid(True)\n",
    "plt.legend()"
   ]
  },
  {
   "cell_type": "code",
   "execution_count": 10,
   "outputs": [
    {
     "name": "stdout",
     "output_type": "stream",
     "text": [
      "1/1 [==============================] - 0s 231ms/step - loss: 0.2437 - accuracy: 0.9000\n"
     ]
    },
    {
     "data": {
      "text/plain": "[0.2437244951725006, 0.8999999761581421]"
     },
     "execution_count": 10,
     "metadata": {},
     "output_type": "execute_result"
    }
   ],
   "source": [
    "model.evaluate(testing_ds)"
   ],
   "metadata": {
    "collapsed": false,
    "ExecuteTime": {
     "end_time": "2023-07-22T18:32:25.227154500Z",
     "start_time": "2023-07-22T18:32:24.957152800Z"
    }
   }
  },
  {
   "cell_type": "code",
   "execution_count": null,
   "outputs": [],
   "source": [],
   "metadata": {
    "collapsed": false
   }
  }
 ],
 "metadata": {
  "kernelspec": {
   "name": "accident_detection",
   "language": "python",
   "display_name": "Accident_detection"
  },
  "language_info": {
   "codemirror_mode": {
    "name": "ipython",
    "version": 3
   },
   "file_extension": ".py",
   "mimetype": "text/x-python",
   "name": "python",
   "nbconvert_exporter": "python",
   "pygments_lexer": "ipython3",
   "version": "3.11.2"
  },
  "papermill": {
   "default_parameters": {},
   "duration": 189.592546,
   "end_time": "2023-02-17T16:18:45.777909",
   "environment_variables": {},
   "exception": null,
   "input_path": "__notebook__.ipynb",
   "output_path": "__notebook__.ipynb",
   "parameters": {},
   "start_time": "2023-02-17T16:15:36.185363",
   "version": "2.3.4"
  }
 },
 "nbformat": 4,
 "nbformat_minor": 5
}
